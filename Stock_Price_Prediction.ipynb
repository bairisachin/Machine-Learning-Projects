{
  "nbformat": 4,
  "nbformat_minor": 0,
  "metadata": {
    "colab": {
      "name": "Stock_Price_Prediction.ipynb",
      "provenance": [],
      "collapsed_sections": [],
      "authorship_tag": "ABX9TyNGcYTRDKvHluAuuYIuvzcJ",
      "include_colab_link": true
    },
    "kernelspec": {
      "name": "python3",
      "display_name": "Python 3"
    }
  },
  "cells": [
    {
      "cell_type": "markdown",
      "metadata": {
        "id": "view-in-github",
        "colab_type": "text"
      },
      "source": [
        "<a href=\"https://colab.research.google.com/github/hashiramauchiha/Machine-Learning-Projects/blob/main/Stock_Price_Prediction.ipynb\" target=\"_parent\"><img src=\"https://colab.research.google.com/assets/colab-badge.svg\" alt=\"Open In Colab\"/></a>"
      ]
    },
    {
      "cell_type": "markdown",
      "metadata": {
        "id": "o9js7eJ_8pwl"
      },
      "source": [
        "**Stock Price Prediction Using Linear Regression**"
      ]
    },
    {
      "cell_type": "code",
      "metadata": {
        "colab": {
          "base_uri": "https://localhost:8080/"
        },
        "id": "BikGJpkf89YJ",
        "outputId": "3cf07cd1-1aa7-4037-b713-d71e76324e65"
      },
      "source": [
        "#Importing Quandl\r\n",
        "!pip install quandl"
      ],
      "execution_count": 166,
      "outputs": [
        {
          "output_type": "stream",
          "text": [
            "Requirement already satisfied: quandl in /usr/local/lib/python3.6/dist-packages (3.6.0)\n",
            "Requirement already satisfied: requests>=2.7.0 in /usr/local/lib/python3.6/dist-packages (from quandl) (2.23.0)\n",
            "Requirement already satisfied: inflection>=0.3.1 in /usr/local/lib/python3.6/dist-packages (from quandl) (0.5.1)\n",
            "Requirement already satisfied: more-itertools in /usr/local/lib/python3.6/dist-packages (from quandl) (8.6.0)\n",
            "Requirement already satisfied: python-dateutil in /usr/local/lib/python3.6/dist-packages (from quandl) (2.8.1)\n",
            "Requirement already satisfied: six in /usr/local/lib/python3.6/dist-packages (from quandl) (1.15.0)\n",
            "Requirement already satisfied: pandas>=0.14 in /usr/local/lib/python3.6/dist-packages (from quandl) (1.1.5)\n",
            "Requirement already satisfied: numpy>=1.8 in /usr/local/lib/python3.6/dist-packages (from quandl) (1.19.5)\n",
            "Requirement already satisfied: certifi>=2017.4.17 in /usr/local/lib/python3.6/dist-packages (from requests>=2.7.0->quandl) (2020.12.5)\n",
            "Requirement already satisfied: idna<3,>=2.5 in /usr/local/lib/python3.6/dist-packages (from requests>=2.7.0->quandl) (2.10)\n",
            "Requirement already satisfied: urllib3!=1.25.0,!=1.25.1,<1.26,>=1.21.1 in /usr/local/lib/python3.6/dist-packages (from requests>=2.7.0->quandl) (1.24.3)\n",
            "Requirement already satisfied: chardet<4,>=3.0.2 in /usr/local/lib/python3.6/dist-packages (from requests>=2.7.0->quandl) (3.0.4)\n",
            "Requirement already satisfied: pytz>=2017.2 in /usr/local/lib/python3.6/dist-packages (from pandas>=0.14->quandl) (2018.9)\n"
          ],
          "name": "stdout"
        }
      ]
    },
    {
      "cell_type": "code",
      "metadata": {
        "id": "G2FvLl0BAL0K"
      },
      "source": [
        "import numpy as np\r\n",
        "import pandas\r\n",
        "import seaborn as sns\r\n",
        "import matplotlib.pyplot as plt\r\n",
        "from sklearn import preprocessing\r\n",
        "from sklearn.preprocessing import MinMaxScaler\r\n",
        "from sklearn.model_selection import train_test_split\r\n",
        "from sklearn.linear_model import LinearRegression\r\n",
        "from sklearn.metrics import mean_squared_error\r\n",
        "import quandl\r\n",
        "from pandas import DataFrame\r\n",
        "from pandas import concat\r\n",
        "import numpy"
      ],
      "execution_count": 167,
      "outputs": []
    },
    {
      "cell_type": "code",
      "metadata": {
        "id": "LWIxwwS2BQwb"
      },
      "source": [
        "quandl.ApiConfig.api_key = \"fxquYZXDo_qkY7AgGy_C\""
      ],
      "execution_count": 168,
      "outputs": []
    },
    {
      "cell_type": "code",
      "metadata": {
        "id": "NqPIXqOBCSph"
      },
      "source": [
        "dataframe_raw = quandl.get(\"EOD/AAPL\")"
      ],
      "execution_count": 169,
      "outputs": []
    },
    {
      "cell_type": "code",
      "metadata": {
        "id": "2MTQbm8LYS2H"
      },
      "source": [
        "df = dataframe_raw.copy(deep=True)"
      ],
      "execution_count": 170,
      "outputs": []
    },
    {
      "cell_type": "code",
      "metadata": {
        "id": "PyhWizYzC0zw",
        "colab": {
          "base_uri": "https://localhost:8080/",
          "height": 431
        },
        "outputId": "d04a1dbf-cd3d-499b-c41d-bcc589d78a45"
      },
      "source": [
        "df"
      ],
      "execution_count": 171,
      "outputs": [
        {
          "output_type": "execute_result",
          "data": {
            "text/html": [
              "<div>\n",
              "<style scoped>\n",
              "    .dataframe tbody tr th:only-of-type {\n",
              "        vertical-align: middle;\n",
              "    }\n",
              "\n",
              "    .dataframe tbody tr th {\n",
              "        vertical-align: top;\n",
              "    }\n",
              "\n",
              "    .dataframe thead th {\n",
              "        text-align: right;\n",
              "    }\n",
              "</style>\n",
              "<table border=\"1\" class=\"dataframe\">\n",
              "  <thead>\n",
              "    <tr style=\"text-align: right;\">\n",
              "      <th></th>\n",
              "      <th>Open</th>\n",
              "      <th>High</th>\n",
              "      <th>Low</th>\n",
              "      <th>Close</th>\n",
              "      <th>Volume</th>\n",
              "      <th>Dividend</th>\n",
              "      <th>Split</th>\n",
              "      <th>Adj_Open</th>\n",
              "      <th>Adj_High</th>\n",
              "      <th>Adj_Low</th>\n",
              "      <th>Adj_Close</th>\n",
              "      <th>Adj_Volume</th>\n",
              "    </tr>\n",
              "    <tr>\n",
              "      <th>Date</th>\n",
              "      <th></th>\n",
              "      <th></th>\n",
              "      <th></th>\n",
              "      <th></th>\n",
              "      <th></th>\n",
              "      <th></th>\n",
              "      <th></th>\n",
              "      <th></th>\n",
              "      <th></th>\n",
              "      <th></th>\n",
              "      <th></th>\n",
              "      <th></th>\n",
              "    </tr>\n",
              "  </thead>\n",
              "  <tbody>\n",
              "    <tr>\n",
              "      <th>2013-09-03</th>\n",
              "      <td>493.10</td>\n",
              "      <td>500.600</td>\n",
              "      <td>487.350</td>\n",
              "      <td>488.580</td>\n",
              "      <td>11854600.0</td>\n",
              "      <td>0.0</td>\n",
              "      <td>1.0</td>\n",
              "      <td>15.619650</td>\n",
              "      <td>15.857223</td>\n",
              "      <td>15.437510</td>\n",
              "      <td>15.476472</td>\n",
              "      <td>331928800.0</td>\n",
              "    </tr>\n",
              "    <tr>\n",
              "      <th>2013-09-04</th>\n",
              "      <td>499.56</td>\n",
              "      <td>502.240</td>\n",
              "      <td>496.280</td>\n",
              "      <td>498.691</td>\n",
              "      <td>12322600.0</td>\n",
              "      <td>0.0</td>\n",
              "      <td>1.0</td>\n",
              "      <td>15.824280</td>\n",
              "      <td>15.909173</td>\n",
              "      <td>15.720381</td>\n",
              "      <td>15.796753</td>\n",
              "      <td>345032800.0</td>\n",
              "    </tr>\n",
              "    <tr>\n",
              "      <th>2013-09-05</th>\n",
              "      <td>500.25</td>\n",
              "      <td>500.680</td>\n",
              "      <td>493.640</td>\n",
              "      <td>495.270</td>\n",
              "      <td>8441700.0</td>\n",
              "      <td>0.0</td>\n",
              "      <td>1.0</td>\n",
              "      <td>15.846136</td>\n",
              "      <td>15.859757</td>\n",
              "      <td>15.636755</td>\n",
              "      <td>15.688388</td>\n",
              "      <td>236367600.0</td>\n",
              "    </tr>\n",
              "    <tr>\n",
              "      <th>2013-09-06</th>\n",
              "      <td>498.44</td>\n",
              "      <td>499.380</td>\n",
              "      <td>489.950</td>\n",
              "      <td>498.220</td>\n",
              "      <td>12840200.0</td>\n",
              "      <td>0.0</td>\n",
              "      <td>1.0</td>\n",
              "      <td>15.788802</td>\n",
              "      <td>15.818578</td>\n",
              "      <td>15.519869</td>\n",
              "      <td>15.781833</td>\n",
              "      <td>359525600.0</td>\n",
              "    </tr>\n",
              "    <tr>\n",
              "      <th>2013-09-09</th>\n",
              "      <td>505.00</td>\n",
              "      <td>507.920</td>\n",
              "      <td>503.480</td>\n",
              "      <td>506.170</td>\n",
              "      <td>12167400.0</td>\n",
              "      <td>0.0</td>\n",
              "      <td>1.0</td>\n",
              "      <td>15.996600</td>\n",
              "      <td>16.089095</td>\n",
              "      <td>15.948451</td>\n",
              "      <td>16.033661</td>\n",
              "      <td>340687200.0</td>\n",
              "    </tr>\n",
              "    <tr>\n",
              "      <th>...</th>\n",
              "      <td>...</td>\n",
              "      <td>...</td>\n",
              "      <td>...</td>\n",
              "      <td>...</td>\n",
              "      <td>...</td>\n",
              "      <td>...</td>\n",
              "      <td>...</td>\n",
              "      <td>...</td>\n",
              "      <td>...</td>\n",
              "      <td>...</td>\n",
              "      <td>...</td>\n",
              "      <td>...</td>\n",
              "    </tr>\n",
              "    <tr>\n",
              "      <th>2017-12-21</th>\n",
              "      <td>174.17</td>\n",
              "      <td>176.020</td>\n",
              "      <td>174.100</td>\n",
              "      <td>175.010</td>\n",
              "      <td>20949896.0</td>\n",
              "      <td>0.0</td>\n",
              "      <td>1.0</td>\n",
              "      <td>41.899570</td>\n",
              "      <td>42.344619</td>\n",
              "      <td>41.882730</td>\n",
              "      <td>42.101646</td>\n",
              "      <td>83799584.0</td>\n",
              "    </tr>\n",
              "    <tr>\n",
              "      <th>2017-12-22</th>\n",
              "      <td>174.68</td>\n",
              "      <td>175.424</td>\n",
              "      <td>174.500</td>\n",
              "      <td>175.010</td>\n",
              "      <td>16349444.0</td>\n",
              "      <td>0.0</td>\n",
              "      <td>1.0</td>\n",
              "      <td>42.022259</td>\n",
              "      <td>42.201241</td>\n",
              "      <td>41.978957</td>\n",
              "      <td>42.101646</td>\n",
              "      <td>65397776.0</td>\n",
              "    </tr>\n",
              "    <tr>\n",
              "      <th>2017-12-26</th>\n",
              "      <td>170.80</td>\n",
              "      <td>171.470</td>\n",
              "      <td>169.679</td>\n",
              "      <td>170.570</td>\n",
              "      <td>33185536.0</td>\n",
              "      <td>0.0</td>\n",
              "      <td>1.0</td>\n",
              "      <td>41.088858</td>\n",
              "      <td>41.250038</td>\n",
              "      <td>40.819183</td>\n",
              "      <td>41.033528</td>\n",
              "      <td>132742144.0</td>\n",
              "    </tr>\n",
              "    <tr>\n",
              "      <th>2017-12-27</th>\n",
              "      <td>170.10</td>\n",
              "      <td>170.780</td>\n",
              "      <td>169.710</td>\n",
              "      <td>170.600</td>\n",
              "      <td>21498213.0</td>\n",
              "      <td>0.0</td>\n",
              "      <td>1.0</td>\n",
              "      <td>40.920461</td>\n",
              "      <td>41.084047</td>\n",
              "      <td>40.826640</td>\n",
              "      <td>41.040745</td>\n",
              "      <td>85992852.0</td>\n",
              "    </tr>\n",
              "    <tr>\n",
              "      <th>2017-12-28</th>\n",
              "      <td>171.00</td>\n",
              "      <td>171.850</td>\n",
              "      <td>170.480</td>\n",
              "      <td>171.080</td>\n",
              "      <td>16480187.0</td>\n",
              "      <td>0.0</td>\n",
              "      <td>1.0</td>\n",
              "      <td>41.136972</td>\n",
              "      <td>41.341454</td>\n",
              "      <td>41.011877</td>\n",
              "      <td>41.156217</td>\n",
              "      <td>65920748.0</td>\n",
              "    </tr>\n",
              "  </tbody>\n",
              "</table>\n",
              "<p>1090 rows × 12 columns</p>\n",
              "</div>"
            ],
            "text/plain": [
              "              Open     High      Low  ...    Adj_Low  Adj_Close   Adj_Volume\n",
              "Date                                  ...                                   \n",
              "2013-09-03  493.10  500.600  487.350  ...  15.437510  15.476472  331928800.0\n",
              "2013-09-04  499.56  502.240  496.280  ...  15.720381  15.796753  345032800.0\n",
              "2013-09-05  500.25  500.680  493.640  ...  15.636755  15.688388  236367600.0\n",
              "2013-09-06  498.44  499.380  489.950  ...  15.519869  15.781833  359525600.0\n",
              "2013-09-09  505.00  507.920  503.480  ...  15.948451  16.033661  340687200.0\n",
              "...            ...      ...      ...  ...        ...        ...          ...\n",
              "2017-12-21  174.17  176.020  174.100  ...  41.882730  42.101646   83799584.0\n",
              "2017-12-22  174.68  175.424  174.500  ...  41.978957  42.101646   65397776.0\n",
              "2017-12-26  170.80  171.470  169.679  ...  40.819183  41.033528  132742144.0\n",
              "2017-12-27  170.10  170.780  169.710  ...  40.826640  41.040745   85992852.0\n",
              "2017-12-28  171.00  171.850  170.480  ...  41.011877  41.156217   65920748.0\n",
              "\n",
              "[1090 rows x 12 columns]"
            ]
          },
          "metadata": {
            "tags": []
          },
          "execution_count": 171
        }
      ]
    },
    {
      "cell_type": "code",
      "metadata": {
        "colab": {
          "base_uri": "https://localhost:8080/"
        },
        "id": "cR1nnXP_W9Jt",
        "outputId": "4264ac98-e5c5-4407-cb92-22fdd6a0d6d3"
      },
      "source": [
        "(df[['Split']]==7.0).value_counts()"
      ],
      "execution_count": 172,
      "outputs": [
        {
          "output_type": "execute_result",
          "data": {
            "text/plain": [
              "Split\n",
              "False    1089\n",
              "True        1\n",
              "dtype: int64"
            ]
          },
          "metadata": {
            "tags": []
          },
          "execution_count": 172
        }
      ]
    },
    {
      "cell_type": "markdown",
      "metadata": {
        "id": "xcMtZ5lTZCfp"
      },
      "source": [
        "**Feature Engineering**\r\n",
        "\r\n",
        "Generating New feature From exiating feature."
      ]
    },
    {
      "cell_type": "code",
      "metadata": {
        "id": "JKFywXdeY_er"
      },
      "source": [
        "#High Low Pecentage : df['HL_PTC']=df['Adj.High']-df['Adj.Low']/df['Adj.Close']*100.0\r\n",
        "df['HL_PCT']=df['Adj_High']-df['Adj_Low']/df['Adj_Close']*100.0\r\n",
        "#Percentage Change : df['PCT_change']=df['Adj.Close']-df['Adj.Open']/df['Adj.Open']*100.0\r\n",
        "df['PCT_change']=df['Adj_Close']-df['Adj_Open']/df['Adj_Open']*100.0"
      ],
      "execution_count": 173,
      "outputs": []
    },
    {
      "cell_type": "code",
      "metadata": {
        "colab": {
          "base_uri": "https://localhost:8080/",
          "height": 431
        },
        "id": "eKLUgjE0YZ3s",
        "outputId": "d7ba9fa3-645b-4368-e24c-870160058211"
      },
      "source": [
        "df"
      ],
      "execution_count": 174,
      "outputs": [
        {
          "output_type": "execute_result",
          "data": {
            "text/html": [
              "<div>\n",
              "<style scoped>\n",
              "    .dataframe tbody tr th:only-of-type {\n",
              "        vertical-align: middle;\n",
              "    }\n",
              "\n",
              "    .dataframe tbody tr th {\n",
              "        vertical-align: top;\n",
              "    }\n",
              "\n",
              "    .dataframe thead th {\n",
              "        text-align: right;\n",
              "    }\n",
              "</style>\n",
              "<table border=\"1\" class=\"dataframe\">\n",
              "  <thead>\n",
              "    <tr style=\"text-align: right;\">\n",
              "      <th></th>\n",
              "      <th>Open</th>\n",
              "      <th>High</th>\n",
              "      <th>Low</th>\n",
              "      <th>Close</th>\n",
              "      <th>Volume</th>\n",
              "      <th>Dividend</th>\n",
              "      <th>Split</th>\n",
              "      <th>Adj_Open</th>\n",
              "      <th>Adj_High</th>\n",
              "      <th>Adj_Low</th>\n",
              "      <th>Adj_Close</th>\n",
              "      <th>Adj_Volume</th>\n",
              "      <th>HL_PCT</th>\n",
              "      <th>PCT_change</th>\n",
              "    </tr>\n",
              "    <tr>\n",
              "      <th>Date</th>\n",
              "      <th></th>\n",
              "      <th></th>\n",
              "      <th></th>\n",
              "      <th></th>\n",
              "      <th></th>\n",
              "      <th></th>\n",
              "      <th></th>\n",
              "      <th></th>\n",
              "      <th></th>\n",
              "      <th></th>\n",
              "      <th></th>\n",
              "      <th></th>\n",
              "      <th></th>\n",
              "      <th></th>\n",
              "    </tr>\n",
              "  </thead>\n",
              "  <tbody>\n",
              "    <tr>\n",
              "      <th>2013-09-03</th>\n",
              "      <td>493.10</td>\n",
              "      <td>500.600</td>\n",
              "      <td>487.350</td>\n",
              "      <td>488.580</td>\n",
              "      <td>11854600.0</td>\n",
              "      <td>0.0</td>\n",
              "      <td>1.0</td>\n",
              "      <td>15.619650</td>\n",
              "      <td>15.857223</td>\n",
              "      <td>15.437510</td>\n",
              "      <td>15.476472</td>\n",
              "      <td>331928800.0</td>\n",
              "      <td>-83.891027</td>\n",
              "      <td>-84.523528</td>\n",
              "    </tr>\n",
              "    <tr>\n",
              "      <th>2013-09-04</th>\n",
              "      <td>499.56</td>\n",
              "      <td>502.240</td>\n",
              "      <td>496.280</td>\n",
              "      <td>498.691</td>\n",
              "      <td>12322600.0</td>\n",
              "      <td>0.0</td>\n",
              "      <td>1.0</td>\n",
              "      <td>15.824280</td>\n",
              "      <td>15.909173</td>\n",
              "      <td>15.720381</td>\n",
              "      <td>15.796753</td>\n",
              "      <td>345032800.0</td>\n",
              "      <td>-83.607362</td>\n",
              "      <td>-84.203247</td>\n",
              "    </tr>\n",
              "    <tr>\n",
              "      <th>2013-09-05</th>\n",
              "      <td>500.25</td>\n",
              "      <td>500.680</td>\n",
              "      <td>493.640</td>\n",
              "      <td>495.270</td>\n",
              "      <td>8441700.0</td>\n",
              "      <td>0.0</td>\n",
              "      <td>1.0</td>\n",
              "      <td>15.846136</td>\n",
              "      <td>15.859757</td>\n",
              "      <td>15.636755</td>\n",
              "      <td>15.688388</td>\n",
              "      <td>236367600.0</td>\n",
              "      <td>-83.811129</td>\n",
              "      <td>-84.311612</td>\n",
              "    </tr>\n",
              "    <tr>\n",
              "      <th>2013-09-06</th>\n",
              "      <td>498.44</td>\n",
              "      <td>499.380</td>\n",
              "      <td>489.950</td>\n",
              "      <td>498.220</td>\n",
              "      <td>12840200.0</td>\n",
              "      <td>0.0</td>\n",
              "      <td>1.0</td>\n",
              "      <td>15.788802</td>\n",
              "      <td>15.818578</td>\n",
              "      <td>15.519869</td>\n",
              "      <td>15.781833</td>\n",
              "      <td>359525600.0</td>\n",
              "      <td>-82.521513</td>\n",
              "      <td>-84.218167</td>\n",
              "    </tr>\n",
              "    <tr>\n",
              "      <th>2013-09-09</th>\n",
              "      <td>505.00</td>\n",
              "      <td>507.920</td>\n",
              "      <td>503.480</td>\n",
              "      <td>506.170</td>\n",
              "      <td>12167400.0</td>\n",
              "      <td>0.0</td>\n",
              "      <td>1.0</td>\n",
              "      <td>15.996600</td>\n",
              "      <td>16.089095</td>\n",
              "      <td>15.948451</td>\n",
              "      <td>16.033661</td>\n",
              "      <td>340687200.0</td>\n",
              "      <td>-83.379463</td>\n",
              "      <td>-83.966339</td>\n",
              "    </tr>\n",
              "    <tr>\n",
              "      <th>...</th>\n",
              "      <td>...</td>\n",
              "      <td>...</td>\n",
              "      <td>...</td>\n",
              "      <td>...</td>\n",
              "      <td>...</td>\n",
              "      <td>...</td>\n",
              "      <td>...</td>\n",
              "      <td>...</td>\n",
              "      <td>...</td>\n",
              "      <td>...</td>\n",
              "      <td>...</td>\n",
              "      <td>...</td>\n",
              "      <td>...</td>\n",
              "      <td>...</td>\n",
              "    </tr>\n",
              "    <tr>\n",
              "      <th>2017-12-21</th>\n",
              "      <td>174.17</td>\n",
              "      <td>176.020</td>\n",
              "      <td>174.100</td>\n",
              "      <td>175.010</td>\n",
              "      <td>20949896.0</td>\n",
              "      <td>0.0</td>\n",
              "      <td>1.0</td>\n",
              "      <td>41.899570</td>\n",
              "      <td>42.344619</td>\n",
              "      <td>41.882730</td>\n",
              "      <td>42.101646</td>\n",
              "      <td>83799584.0</td>\n",
              "      <td>-57.135411</td>\n",
              "      <td>-57.898354</td>\n",
              "    </tr>\n",
              "    <tr>\n",
              "      <th>2017-12-22</th>\n",
              "      <td>174.68</td>\n",
              "      <td>175.424</td>\n",
              "      <td>174.500</td>\n",
              "      <td>175.010</td>\n",
              "      <td>16349444.0</td>\n",
              "      <td>0.0</td>\n",
              "      <td>1.0</td>\n",
              "      <td>42.022259</td>\n",
              "      <td>42.201241</td>\n",
              "      <td>41.978957</td>\n",
              "      <td>42.101646</td>\n",
              "      <td>65397776.0</td>\n",
              "      <td>-57.507347</td>\n",
              "      <td>-57.898354</td>\n",
              "    </tr>\n",
              "    <tr>\n",
              "      <th>2017-12-26</th>\n",
              "      <td>170.80</td>\n",
              "      <td>171.470</td>\n",
              "      <td>169.679</td>\n",
              "      <td>170.570</td>\n",
              "      <td>33185536.0</td>\n",
              "      <td>0.0</td>\n",
              "      <td>1.0</td>\n",
              "      <td>41.088858</td>\n",
              "      <td>41.250038</td>\n",
              "      <td>40.819183</td>\n",
              "      <td>41.033528</td>\n",
              "      <td>132742144.0</td>\n",
              "      <td>-58.227595</td>\n",
              "      <td>-58.966472</td>\n",
              "    </tr>\n",
              "    <tr>\n",
              "      <th>2017-12-27</th>\n",
              "      <td>170.10</td>\n",
              "      <td>170.780</td>\n",
              "      <td>169.710</td>\n",
              "      <td>170.600</td>\n",
              "      <td>21498213.0</td>\n",
              "      <td>0.0</td>\n",
              "      <td>1.0</td>\n",
              "      <td>40.920461</td>\n",
              "      <td>41.084047</td>\n",
              "      <td>40.826640</td>\n",
              "      <td>41.040745</td>\n",
              "      <td>85992852.0</td>\n",
              "      <td>-58.394265</td>\n",
              "      <td>-58.959255</td>\n",
              "    </tr>\n",
              "    <tr>\n",
              "      <th>2017-12-28</th>\n",
              "      <td>171.00</td>\n",
              "      <td>171.850</td>\n",
              "      <td>170.480</td>\n",
              "      <td>171.080</td>\n",
              "      <td>16480187.0</td>\n",
              "      <td>0.0</td>\n",
              "      <td>1.0</td>\n",
              "      <td>41.136972</td>\n",
              "      <td>41.341454</td>\n",
              "      <td>41.011877</td>\n",
              "      <td>41.156217</td>\n",
              "      <td>65920748.0</td>\n",
              "      <td>-58.307833</td>\n",
              "      <td>-58.843783</td>\n",
              "    </tr>\n",
              "  </tbody>\n",
              "</table>\n",
              "<p>1090 rows × 14 columns</p>\n",
              "</div>"
            ],
            "text/plain": [
              "              Open     High      Low  ...   Adj_Volume     HL_PCT  PCT_change\n",
              "Date                                  ...                                    \n",
              "2013-09-03  493.10  500.600  487.350  ...  331928800.0 -83.891027  -84.523528\n",
              "2013-09-04  499.56  502.240  496.280  ...  345032800.0 -83.607362  -84.203247\n",
              "2013-09-05  500.25  500.680  493.640  ...  236367600.0 -83.811129  -84.311612\n",
              "2013-09-06  498.44  499.380  489.950  ...  359525600.0 -82.521513  -84.218167\n",
              "2013-09-09  505.00  507.920  503.480  ...  340687200.0 -83.379463  -83.966339\n",
              "...            ...      ...      ...  ...          ...        ...         ...\n",
              "2017-12-21  174.17  176.020  174.100  ...   83799584.0 -57.135411  -57.898354\n",
              "2017-12-22  174.68  175.424  174.500  ...   65397776.0 -57.507347  -57.898354\n",
              "2017-12-26  170.80  171.470  169.679  ...  132742144.0 -58.227595  -58.966472\n",
              "2017-12-27  170.10  170.780  169.710  ...   85992852.0 -58.394265  -58.959255\n",
              "2017-12-28  171.00  171.850  170.480  ...   65920748.0 -58.307833  -58.843783\n",
              "\n",
              "[1090 rows x 14 columns]"
            ]
          },
          "metadata": {
            "tags": []
          },
          "execution_count": 174
        }
      ]
    },
    {
      "cell_type": "code",
      "metadata": {
        "colab": {
          "base_uri": "https://localhost:8080/",
          "height": 605
        },
        "id": "G0ZXRql6bFts",
        "outputId": "b8d9d85d-5816-4a0d-8c2a-5e5cadef6361"
      },
      "source": [
        "#df.corr (Checking the co-relation)\r\n",
        "import seaborn as sns\r\n",
        "corr = df.corr()\r\n",
        "\r\n",
        "mask = np.triu(np.ones_like(corr,dtype=bool))\r\n",
        "\r\n",
        "f , ax = plt.subplots(figsize=(11,9))\r\n",
        "\r\n",
        "cmap= sns.diverging_palette(230,20, as_cmap=True)\r\n",
        "\r\n",
        "sns.heatmap(corr,mask=mask,cmap=cmap,vmax=.3,center=0,square=True,linewidth=.5,cbar_kws={\"shrink\":.5})"
      ],
      "execution_count": 175,
      "outputs": [
        {
          "output_type": "execute_result",
          "data": {
            "text/plain": [
              "<matplotlib.axes._subplots.AxesSubplot at 0x7f1c962654a8>"
            ]
          },
          "metadata": {
            "tags": []
          },
          "execution_count": 175
        },
        {
          "output_type": "display_data",
          "data": {
            "image/png": "[encoded data removed]",
            "text/plain": [
              "<Figure size 792x648 with 2 Axes>"
            ]
          },
          "metadata": {
            "tags": [],
            "needs_background": "light"
          }
        }
      ]
    },
    {
      "cell_type": "markdown",
      "metadata": {
        "id": "YVcyi78DdnC6"
      },
      "source": [
        "**Fearure Selection:**"
      ]
    },
    {
      "cell_type": "code",
      "metadata": {
        "id": "gznejFHBdlJS"
      },
      "source": [
        "#df = df[[\"Adj_Close\",\"Adj_Volume\",\"HL_PCT\",\"PCT_change\"]]\r\n",
        "df = df[[\"Adj_Open\",\"Adj_High\",\"Adj_Low\",\"Adj_Close\",\"Adj_Volume\",\"HL_PCT\",\"PCT_change\"]]"
      ],
      "execution_count": 176,
      "outputs": []
    },
    {
      "cell_type": "code",
      "metadata": {
        "colab": {
          "base_uri": "https://localhost:8080/",
          "height": 225
        },
        "id": "YQhUZZsLcqAA",
        "outputId": "0e9d3863-edea-4fdf-d8e4-d21ce34aa75b"
      },
      "source": [
        "df.head()"
      ],
      "execution_count": 177,
      "outputs": [
        {
          "output_type": "execute_result",
          "data": {
            "text/html": [
              "<div>\n",
              "<style scoped>\n",
              "    .dataframe tbody tr th:only-of-type {\n",
              "        vertical-align: middle;\n",
              "    }\n",
              "\n",
              "    .dataframe tbody tr th {\n",
              "        vertical-align: top;\n",
              "    }\n",
              "\n",
              "    .dataframe thead th {\n",
              "        text-align: right;\n",
              "    }\n",
              "</style>\n",
              "<table border=\"1\" class=\"dataframe\">\n",
              "  <thead>\n",
              "    <tr style=\"text-align: right;\">\n",
              "      <th></th>\n",
              "      <th>Adj_Open</th>\n",
              "      <th>Adj_High</th>\n",
              "      <th>Adj_Low</th>\n",
              "      <th>Adj_Close</th>\n",
              "      <th>Adj_Volume</th>\n",
              "      <th>HL_PCT</th>\n",
              "      <th>PCT_change</th>\n",
              "    </tr>\n",
              "    <tr>\n",
              "      <th>Date</th>\n",
              "      <th></th>\n",
              "      <th></th>\n",
              "      <th></th>\n",
              "      <th></th>\n",
              "      <th></th>\n",
              "      <th></th>\n",
              "      <th></th>\n",
              "    </tr>\n",
              "  </thead>\n",
              "  <tbody>\n",
              "    <tr>\n",
              "      <th>2013-09-03</th>\n",
              "      <td>15.619650</td>\n",
              "      <td>15.857223</td>\n",
              "      <td>15.437510</td>\n",
              "      <td>15.476472</td>\n",
              "      <td>331928800.0</td>\n",
              "      <td>-83.891027</td>\n",
              "      <td>-84.523528</td>\n",
              "    </tr>\n",
              "    <tr>\n",
              "      <th>2013-09-04</th>\n",
              "      <td>15.824280</td>\n",
              "      <td>15.909173</td>\n",
              "      <td>15.720381</td>\n",
              "      <td>15.796753</td>\n",
              "      <td>345032800.0</td>\n",
              "      <td>-83.607362</td>\n",
              "      <td>-84.203247</td>\n",
              "    </tr>\n",
              "    <tr>\n",
              "      <th>2013-09-05</th>\n",
              "      <td>15.846136</td>\n",
              "      <td>15.859757</td>\n",
              "      <td>15.636755</td>\n",
              "      <td>15.688388</td>\n",
              "      <td>236367600.0</td>\n",
              "      <td>-83.811129</td>\n",
              "      <td>-84.311612</td>\n",
              "    </tr>\n",
              "    <tr>\n",
              "      <th>2013-09-06</th>\n",
              "      <td>15.788802</td>\n",
              "      <td>15.818578</td>\n",
              "      <td>15.519869</td>\n",
              "      <td>15.781833</td>\n",
              "      <td>359525600.0</td>\n",
              "      <td>-82.521513</td>\n",
              "      <td>-84.218167</td>\n",
              "    </tr>\n",
              "    <tr>\n",
              "      <th>2013-09-09</th>\n",
              "      <td>15.996600</td>\n",
              "      <td>16.089095</td>\n",
              "      <td>15.948451</td>\n",
              "      <td>16.033661</td>\n",
              "      <td>340687200.0</td>\n",
              "      <td>-83.379463</td>\n",
              "      <td>-83.966339</td>\n",
              "    </tr>\n",
              "  </tbody>\n",
              "</table>\n",
              "</div>"
            ],
            "text/plain": [
              "             Adj_Open   Adj_High    Adj_Low  ...   Adj_Volume     HL_PCT  PCT_change\n",
              "Date                                         ...                                    \n",
              "2013-09-03  15.619650  15.857223  15.437510  ...  331928800.0 -83.891027  -84.523528\n",
              "2013-09-04  15.824280  15.909173  15.720381  ...  345032800.0 -83.607362  -84.203247\n",
              "2013-09-05  15.846136  15.859757  15.636755  ...  236367600.0 -83.811129  -84.311612\n",
              "2013-09-06  15.788802  15.818578  15.519869  ...  359525600.0 -82.521513  -84.218167\n",
              "2013-09-09  15.996600  16.089095  15.948451  ...  340687200.0 -83.379463  -83.966339\n",
              "\n",
              "[5 rows x 7 columns]"
            ]
          },
          "metadata": {
            "tags": []
          },
          "execution_count": 177
        }
      ]
    },
    {
      "cell_type": "code",
      "metadata": {
        "colab": {
          "base_uri": "https://localhost:8080/",
          "height": 490
        },
        "id": "disn7_bpeFUH",
        "outputId": "e5d2ca3f-03bc-4685-da21-81aac1ccd363"
      },
      "source": [
        "df['Adj_Close'].pct_change().plot(figsize=(10,8),grid=True) #which is also  PCT_change column"
      ],
      "execution_count": 178,
      "outputs": [
        {
          "output_type": "execute_result",
          "data": {
            "text/plain": [
              "<matplotlib.axes._subplots.AxesSubplot at 0x7f1c8d832da0>"
            ]
          },
          "metadata": {
            "tags": []
          },
          "execution_count": 178
        },
        {
          "output_type": "display_data",
          "data": {
            "image/png": "[encoded data removed]",
            "text/plain": [
              "<Figure size 720x576 with 1 Axes>"
            ]
          },
          "metadata": {
            "tags": [],
            "needs_background": "light"
          }
        }
      ]
    },
    {
      "cell_type": "code",
      "metadata": {
        "colab": {
          "base_uri": "https://localhost:8080/",
          "height": 254
        },
        "id": "uDAJPF1jehFa",
        "outputId": "2e116f5e-13df-4573-bf18-39b0c8ea6fb7"
      },
      "source": [
        "df.corr()"
      ],
      "execution_count": 179,
      "outputs": [
        {
          "output_type": "execute_result",
          "data": {
            "text/html": [
              "<div>\n",
              "<style scoped>\n",
              "    .dataframe tbody tr th:only-of-type {\n",
              "        vertical-align: middle;\n",
              "    }\n",
              "\n",
              "    .dataframe tbody tr th {\n",
              "        vertical-align: top;\n",
              "    }\n",
              "\n",
              "    .dataframe thead th {\n",
              "        text-align: right;\n",
              "    }\n",
              "</style>\n",
              "<table border=\"1\" class=\"dataframe\">\n",
              "  <thead>\n",
              "    <tr style=\"text-align: right;\">\n",
              "      <th></th>\n",
              "      <th>Adj_Open</th>\n",
              "      <th>Adj_High</th>\n",
              "      <th>Adj_Low</th>\n",
              "      <th>Adj_Close</th>\n",
              "      <th>Adj_Volume</th>\n",
              "      <th>HL_PCT</th>\n",
              "      <th>PCT_change</th>\n",
              "    </tr>\n",
              "  </thead>\n",
              "  <tbody>\n",
              "    <tr>\n",
              "      <th>Adj_Open</th>\n",
              "      <td>1.000000</td>\n",
              "      <td>0.999528</td>\n",
              "      <td>0.999416</td>\n",
              "      <td>0.998987</td>\n",
              "      <td>-0.549990</td>\n",
              "      <td>0.990545</td>\n",
              "      <td>0.998987</td>\n",
              "    </tr>\n",
              "    <tr>\n",
              "      <th>Adj_High</th>\n",
              "      <td>0.999528</td>\n",
              "      <td>1.000000</td>\n",
              "      <td>0.999278</td>\n",
              "      <td>0.999526</td>\n",
              "      <td>-0.544404</td>\n",
              "      <td>0.993568</td>\n",
              "      <td>0.999526</td>\n",
              "    </tr>\n",
              "    <tr>\n",
              "      <th>Adj_Low</th>\n",
              "      <td>0.999416</td>\n",
              "      <td>0.999278</td>\n",
              "      <td>1.000000</td>\n",
              "      <td>0.999558</td>\n",
              "      <td>-0.560073</td>\n",
              "      <td>0.990297</td>\n",
              "      <td>0.999558</td>\n",
              "    </tr>\n",
              "    <tr>\n",
              "      <th>Adj_Close</th>\n",
              "      <td>0.998987</td>\n",
              "      <td>0.999526</td>\n",
              "      <td>0.999558</td>\n",
              "      <td>1.000000</td>\n",
              "      <td>-0.553474</td>\n",
              "      <td>0.993843</td>\n",
              "      <td>1.000000</td>\n",
              "    </tr>\n",
              "    <tr>\n",
              "      <th>Adj_Volume</th>\n",
              "      <td>-0.549990</td>\n",
              "      <td>-0.544404</td>\n",
              "      <td>-0.560073</td>\n",
              "      <td>-0.553474</td>\n",
              "      <td>1.000000</td>\n",
              "      <td>-0.514419</td>\n",
              "      <td>-0.553474</td>\n",
              "    </tr>\n",
              "    <tr>\n",
              "      <th>HL_PCT</th>\n",
              "      <td>0.990545</td>\n",
              "      <td>0.993568</td>\n",
              "      <td>0.990297</td>\n",
              "      <td>0.993843</td>\n",
              "      <td>-0.514419</td>\n",
              "      <td>1.000000</td>\n",
              "      <td>0.993843</td>\n",
              "    </tr>\n",
              "    <tr>\n",
              "      <th>PCT_change</th>\n",
              "      <td>0.998987</td>\n",
              "      <td>0.999526</td>\n",
              "      <td>0.999558</td>\n",
              "      <td>1.000000</td>\n",
              "      <td>-0.553474</td>\n",
              "      <td>0.993843</td>\n",
              "      <td>1.000000</td>\n",
              "    </tr>\n",
              "  </tbody>\n",
              "</table>\n",
              "</div>"
            ],
            "text/plain": [
              "            Adj_Open  Adj_High   Adj_Low  ...  Adj_Volume    HL_PCT  PCT_change\n",
              "Adj_Open    1.000000  0.999528  0.999416  ...   -0.549990  0.990545    0.998987\n",
              "Adj_High    0.999528  1.000000  0.999278  ...   -0.544404  0.993568    0.999526\n",
              "Adj_Low     0.999416  0.999278  1.000000  ...   -0.560073  0.990297    0.999558\n",
              "Adj_Close   0.998987  0.999526  0.999558  ...   -0.553474  0.993843    1.000000\n",
              "Adj_Volume -0.549990 -0.544404 -0.560073  ...    1.000000 -0.514419   -0.553474\n",
              "HL_PCT      0.990545  0.993568  0.990297  ...   -0.514419  1.000000    0.993843\n",
              "PCT_change  0.998987  0.999526  0.999558  ...   -0.553474  0.993843    1.000000\n",
              "\n",
              "[7 rows x 7 columns]"
            ]
          },
          "metadata": {
            "tags": []
          },
          "execution_count": 179
        }
      ]
    },
    {
      "cell_type": "markdown",
      "metadata": {
        "id": "0A53-erWfRfv"
      },
      "source": [
        "**Preparing Input Output Features for model Training**"
      ]
    },
    {
      "cell_type": "code",
      "metadata": {
        "colab": {
          "base_uri": "https://localhost:8080/"
        },
        "id": "x-jCGKPbcAj4",
        "outputId": "c7307ded-7bea-4227-81d9-e811fa5065b1"
      },
      "source": [
        "df.shape"
      ],
      "execution_count": 180,
      "outputs": [
        {
          "output_type": "execute_result",
          "data": {
            "text/plain": [
              "(1090, 7)"
            ]
          },
          "metadata": {
            "tags": []
          },
          "execution_count": 180
        }
      ]
    },
    {
      "cell_type": "code",
      "metadata": {
        "id": "SLXyP0WjcDhX"
      },
      "source": [
        "label= df['Adj_Close'].shift(-10)\r\n"
      ],
      "execution_count": 181,
      "outputs": []
    },
    {
      "cell_type": "code",
      "metadata": {
        "colab": {
          "base_uri": "https://localhost:8080/"
        },
        "id": "iDTYw81mcQWc",
        "outputId": "bb0c8683-34ba-443e-e58b-4e54988b326b"
      },
      "source": [
        "label.isna().sum()\r\n",
        "label.shape"
      ],
      "execution_count": 182,
      "outputs": [
        {
          "output_type": "execute_result",
          "data": {
            "text/plain": [
              "(1090,)"
            ]
          },
          "metadata": {
            "tags": []
          },
          "execution_count": 182
        }
      ]
    },
    {
      "cell_type": "code",
      "metadata": {
        "colab": {
          "base_uri": "https://localhost:8080/"
        },
        "id": "y0g6m3l0cv04",
        "outputId": "37f8b354-c37e-4458-ea90-d04e0472a2e8"
      },
      "source": [
        "label.dropna(inplace=True)\r\n",
        "x = df[['Adj_Volume','HL_PCT','PCT_change']]\r\n",
        "x.shape"
      ],
      "execution_count": 183,
      "outputs": [
        {
          "output_type": "execute_result",
          "data": {
            "text/plain": [
              "(1090, 3)"
            ]
          },
          "metadata": {
            "tags": []
          },
          "execution_count": 183
        }
      ]
    },
    {
      "cell_type": "code",
      "metadata": {
        "colab": {
          "base_uri": "https://localhost:8080/"
        },
        "id": "exF3J4_yeSrh",
        "outputId": "b6b1b709-f8e2-4eeb-9a0e-cbc6b7a7c9e4"
      },
      "source": [
        "y = np.array(label)\r\n",
        "y.shape"
      ],
      "execution_count": 184,
      "outputs": [
        {
          "output_type": "execute_result",
          "data": {
            "text/plain": [
              "(1080,)"
            ]
          },
          "metadata": {
            "tags": []
          },
          "execution_count": 184
        }
      ]
    },
    {
      "cell_type": "code",
      "metadata": {
        "colab": {
          "base_uri": "https://localhost:8080/"
        },
        "id": "3ePDAu91ehDV",
        "outputId": "97c2805e-c2d1-4120-dbef-4aa86ba2491f"
      },
      "source": [
        "x_lately = x[-10:]\r\n",
        "x = x[:-10]\r\n",
        "print(\"Shape of x after removing x_lately: \",x.shape)\r\n",
        "print(\"Shape of x_lately: \",x_lately.shape)\r\n"
      ],
      "execution_count": 185,
      "outputs": [
        {
          "output_type": "stream",
          "text": [
            "Shape of x after removing x_lately:  (1080, 3)\n",
            "Shape of x_lately:  (10, 3)\n"
          ],
          "name": "stdout"
        }
      ]
    },
    {
      "cell_type": "code",
      "metadata": {
        "id": "hZ0UTx2Ue7II"
      },
      "source": [
        "X_train, X_test, y_train, y_test = train_test_split(x,y, test_size=0.3,random_state=41)\r\n",
        "\r\n",
        "norm=MinMaxScaler().fit(X_train)\r\n",
        "X_train = norm.transform(X_train)\r\n",
        "X_test = norm.transform(X_test)\r\n",
        "x_lately = norm.transform(x_lately)"
      ],
      "execution_count": 186,
      "outputs": []
    },
    {
      "cell_type": "code",
      "metadata": {
        "id": "p5Ysn3oBoK9y",
        "colab": {
          "base_uri": "https://localhost:8080/"
        },
        "outputId": "088436d3-926e-45fb-f03a-4bc0a0ccc629"
      },
      "source": [
        "reg = LinearRegression()\r\n",
        "reg.fit(X_test,y_test)\r\n",
        "score=reg.score(X_test,y_test)\r\n",
        "\r\n",
        "print(\"Estimated Intercept Coefficient: \",reg.intercept_)\r\n",
        "print(\"Number of Co-efficient: \",len(reg.coef_))"
      ],
      "execution_count": 187,
      "outputs": [
        {
          "output_type": "stream",
          "text": [
            "Estimated Intercept Coefficient:  14.754551196197266\n",
            "Number of Co-efficient:  3\n"
          ],
          "name": "stdout"
        }
      ]
    },
    {
      "cell_type": "code",
      "metadata": {
        "colab": {
          "base_uri": "https://localhost:8080/",
          "height": 136
        },
        "id": "4Rhc8EgutRi9",
        "outputId": "ac0cdcdf-2bf6-4e71-f6b7-fcdfeaa7c7ff"
      },
      "source": [
        "coefdf=pd.DataFrame(zip(x.columns,reg.coef_),columns=['features','estimatedCoefficient'])\r\n",
        "coefdf"
      ],
      "execution_count": 188,
      "outputs": [
        {
          "output_type": "execute_result",
          "data": {
            "text/html": [
              "<div>\n",
              "<style scoped>\n",
              "    .dataframe tbody tr th:only-of-type {\n",
              "        vertical-align: middle;\n",
              "    }\n",
              "\n",
              "    .dataframe tbody tr th {\n",
              "        vertical-align: top;\n",
              "    }\n",
              "\n",
              "    .dataframe thead th {\n",
              "        text-align: right;\n",
              "    }\n",
              "</style>\n",
              "<table border=\"1\" class=\"dataframe\">\n",
              "  <thead>\n",
              "    <tr style=\"text-align: right;\">\n",
              "      <th></th>\n",
              "      <th>features</th>\n",
              "      <th>estimatedCoefficient</th>\n",
              "    </tr>\n",
              "  </thead>\n",
              "  <tbody>\n",
              "    <tr>\n",
              "      <th>0</th>\n",
              "      <td>Adj_Volume</td>\n",
              "      <td>-0.336262</td>\n",
              "    </tr>\n",
              "    <tr>\n",
              "      <th>1</th>\n",
              "      <td>HL_PCT</td>\n",
              "      <td>-5.396815</td>\n",
              "    </tr>\n",
              "    <tr>\n",
              "      <th>2</th>\n",
              "      <td>PCT_change</td>\n",
              "      <td>33.076364</td>\n",
              "    </tr>\n",
              "  </tbody>\n",
              "</table>\n",
              "</div>"
            ],
            "text/plain": [
              "     features  estimatedCoefficient\n",
              "0  Adj_Volume             -0.336262\n",
              "1      HL_PCT             -5.396815\n",
              "2  PCT_change             33.076364"
            ]
          },
          "metadata": {
            "tags": []
          },
          "execution_count": 188
        }
      ]
    },
    {
      "cell_type": "code",
      "metadata": {
        "colab": {
          "base_uri": "https://localhost:8080/"
        },
        "id": "7y7AMaYat1JS",
        "outputId": "cac298b9-92f9-4217-9900-d21a46ccaf2a"
      },
      "source": [
        "forcast=[]\r\n",
        "forecast  = reg.predict(x_lately)\r\n",
        "y_pred = reg.predict(X_test)\r\n",
        "\r\n",
        "mse = mean_squared_error(y_test,y_pred)\r\n",
        "print(\"MSE: \",mse)\r\n",
        "print(\"LinearReg Score: \",score)\r\n",
        "print(forecast)"
      ],
      "execution_count": 189,
      "outputs": [
        {
          "output_type": "stream",
          "text": [
            "MSE:  1.4996935555998707\n",
            "LinearReg Score:  0.9660189162242764\n",
            "[41.80129744 42.12855917 42.70402805 42.36760926 42.24735152 42.43319427\n",
            " 42.50883961 41.35153683 41.40671238 41.53444215]\n"
          ],
          "name": "stdout"
        }
      ]
    },
    {
      "cell_type": "markdown",
      "metadata": {
        "id": "k8MswhSixKp1"
      },
      "source": [
        "**FOR UNIVARIATE**"
      ]
    },
    {
      "cell_type": "code",
      "metadata": {
        "id": "nZQMhe3q7LKG"
      },
      "source": [
        "\r\n",
        "def series_to_supervised(data, lag=1, forc=1, dropnan=True):\r\n",
        "\t\"\"\"\r\n",
        "\tFrame a time series as a supervised learning dataset.\r\n",
        "\tArguments:\r\n",
        "\t\tdata: Sequence of observations as a list or NumPy array.\r\n",
        "\t\tn_in: Number of lag observations as input (X).\r\n",
        "\t\tn_out: Number of observations as output (y).\r\n",
        "\t\tdropnan: Boolean whether or not to drop rows with NaN values.\r\n",
        "\tReturns:\r\n",
        "\t\tPandas DataFrame of series framed for supervised learning.\r\n",
        "\t\"\"\"\r\n",
        "\tn_vars = 1 if type(data) is pandas.core.frame.DataFrame else data.shape[0]\r\n",
        "\tdf = DataFrame(data)\r\n",
        "\tcols, names = list(), list()\r\n",
        "\t# input sequence (t-n, ... t-1)\r\n",
        "\tfor i in range(lag, 0, -1):\r\n",
        "\t\tcols.append(df.shift(i))\r\n",
        "\t\tnames += [('var%d(t-%d)' % (j+1, i)) for j in range(n_vars)]\r\n",
        "\t# forecast sequence (t, t+1, ... t+n)\r\n",
        "\tfor i in range(0, forc):\r\n",
        "\t\tcols.append(df.shift(-i))\r\n",
        "\t\tif i == 0:\r\n",
        "\t\t\tnames += [('var%d(t)' % (j+1)) for j in range(n_vars)]\r\n",
        "\t\telse:\r\n",
        "\t\t\tnames += [('var%d(t+%d)' % (j+1, i)) for j in range(n_vars)]\r\n",
        "\t# put it all together\r\n",
        "\tagg = concat(cols, axis=1)\r\n",
        "\tagg.columns = names\r\n",
        "\t# drop rows with NaN values\r\n",
        "\tif dropnan:\r\n",
        "\t\tagg.dropna(inplace=True)\r\n",
        "\treturn agg"
      ],
      "execution_count": 190,
      "outputs": []
    },
    {
      "cell_type": "code",
      "metadata": {
        "colab": {
          "base_uri": "https://localhost:8080/"
        },
        "id": "HD3IiQiSucJv",
        "outputId": "9ede0f1f-0913-4a98-a56a-f403ed7d5cd8"
      },
      "source": [
        "value = df[['Adj_Close']]\r\n",
        "type(value)"
      ],
      "execution_count": 191,
      "outputs": [
        {
          "output_type": "execute_result",
          "data": {
            "text/plain": [
              "pandas.core.frame.DataFrame"
            ]
          },
          "metadata": {
            "tags": []
          },
          "execution_count": 191
        }
      ]
    },
    {
      "cell_type": "code",
      "metadata": {
        "colab": {
          "base_uri": "https://localhost:8080/",
          "height": 431
        },
        "id": "IwrcAxHTxddX",
        "outputId": "73b068ce-19b0-428a-be7e-8374079fd88c"
      },
      "source": [
        "newdf = series_to_supervised(value,0,2,dropnan=True) #Change it to true while fitting model\r\n",
        "newdf"
      ],
      "execution_count": 192,
      "outputs": [
        {
          "output_type": "execute_result",
          "data": {
            "text/html": [
              "<div>\n",
              "<style scoped>\n",
              "    .dataframe tbody tr th:only-of-type {\n",
              "        vertical-align: middle;\n",
              "    }\n",
              "\n",
              "    .dataframe tbody tr th {\n",
              "        vertical-align: top;\n",
              "    }\n",
              "\n",
              "    .dataframe thead th {\n",
              "        text-align: right;\n",
              "    }\n",
              "</style>\n",
              "<table border=\"1\" class=\"dataframe\">\n",
              "  <thead>\n",
              "    <tr style=\"text-align: right;\">\n",
              "      <th></th>\n",
              "      <th>var1(t)</th>\n",
              "      <th>var1(t+1)</th>\n",
              "    </tr>\n",
              "    <tr>\n",
              "      <th>Date</th>\n",
              "      <th></th>\n",
              "      <th></th>\n",
              "    </tr>\n",
              "  </thead>\n",
              "  <tbody>\n",
              "    <tr>\n",
              "      <th>2013-09-03</th>\n",
              "      <td>15.476472</td>\n",
              "      <td>15.796753</td>\n",
              "    </tr>\n",
              "    <tr>\n",
              "      <th>2013-09-04</th>\n",
              "      <td>15.796753</td>\n",
              "      <td>15.688388</td>\n",
              "    </tr>\n",
              "    <tr>\n",
              "      <th>2013-09-05</th>\n",
              "      <td>15.688388</td>\n",
              "      <td>15.781833</td>\n",
              "    </tr>\n",
              "    <tr>\n",
              "      <th>2013-09-06</th>\n",
              "      <td>15.781833</td>\n",
              "      <td>16.033661</td>\n",
              "    </tr>\n",
              "    <tr>\n",
              "      <th>2013-09-09</th>\n",
              "      <td>16.033661</td>\n",
              "      <td>15.668432</td>\n",
              "    </tr>\n",
              "    <tr>\n",
              "      <th>...</th>\n",
              "      <td>...</td>\n",
              "      <td>...</td>\n",
              "    </tr>\n",
              "    <tr>\n",
              "      <th>2017-12-20</th>\n",
              "      <td>41.942872</td>\n",
              "      <td>42.101646</td>\n",
              "    </tr>\n",
              "    <tr>\n",
              "      <th>2017-12-21</th>\n",
              "      <td>42.101646</td>\n",
              "      <td>42.101646</td>\n",
              "    </tr>\n",
              "    <tr>\n",
              "      <th>2017-12-22</th>\n",
              "      <td>42.101646</td>\n",
              "      <td>41.033528</td>\n",
              "    </tr>\n",
              "    <tr>\n",
              "      <th>2017-12-26</th>\n",
              "      <td>41.033528</td>\n",
              "      <td>41.040745</td>\n",
              "    </tr>\n",
              "    <tr>\n",
              "      <th>2017-12-27</th>\n",
              "      <td>41.040745</td>\n",
              "      <td>41.156217</td>\n",
              "    </tr>\n",
              "  </tbody>\n",
              "</table>\n",
              "<p>1089 rows × 2 columns</p>\n",
              "</div>"
            ],
            "text/plain": [
              "              var1(t)  var1(t+1)\n",
              "Date                            \n",
              "2013-09-03  15.476472  15.796753\n",
              "2013-09-04  15.796753  15.688388\n",
              "2013-09-05  15.688388  15.781833\n",
              "2013-09-06  15.781833  16.033661\n",
              "2013-09-09  16.033661  15.668432\n",
              "...               ...        ...\n",
              "2017-12-20  41.942872  42.101646\n",
              "2017-12-21  42.101646  42.101646\n",
              "2017-12-22  42.101646  41.033528\n",
              "2017-12-26  41.033528  41.040745\n",
              "2017-12-27  41.040745  41.156217\n",
              "\n",
              "[1089 rows x 2 columns]"
            ]
          },
          "metadata": {
            "tags": []
          },
          "execution_count": 192
        }
      ]
    },
    {
      "cell_type": "code",
      "metadata": {
        "id": "Ce-XV3qwyD_Q"
      },
      "source": [
        "y=np.array(newdf['var1(t+1)'])\r\n",
        "x=np.array(newdf['var1(t)'])"
      ],
      "execution_count": 193,
      "outputs": []
    },
    {
      "cell_type": "code",
      "metadata": {
        "colab": {
          "base_uri": "https://localhost:8080/"
        },
        "id": "AsCWaRH288YN",
        "outputId": "2df85c5e-7a2c-4fcd-916f-af996bc1d81a"
      },
      "source": [
        "X_train, X_test, y_train, y_test = train_test_split(x,y,test_size=0.3,random_state=41)\r\n",
        "X_train=X_train.reshape(-1,1) #As there is only one column in the array\r\n",
        "X_test=X_test.reshape(-1,1)\r\n",
        "\r\n",
        "norm=MinMaxScaler().fit(X_train)\r\n",
        "X_train = norm.transform(X_train)\r\n",
        "X_test = norm.transform(X_test)\r\n",
        "\r\n",
        "reg = LinearRegression()\r\n",
        "reg.fit(X_train,y_train)\r\n",
        "score=reg.score(X_test,y_test)\r\n",
        "\r\n",
        "forecast=[]\r\n",
        "y_pred= reg.predict(X_test)\r\n",
        "\r\n",
        "mse= mean_squared_error(y_test,y_pred)\r\n",
        "print(\"MSE: \",mse)\r\n",
        "print(\"Linear Score: \",score)\r\n"
      ],
      "execution_count": 194,
      "outputs": [
        {
          "output_type": "stream",
          "text": [
            "MSE:  0.1487731092336786\n",
            "Linear Score:  0.9965450347139894\n"
          ],
          "name": "stdout"
        }
      ]
    },
    {
      "cell_type": "markdown",
      "metadata": {
        "id": "-v7kQ5yb-kmo"
      },
      "source": [
        "**FOR MULTIVARIATE**\r\n",
        "\r\n",
        "A Multivariate tume Series refers to the set of observation over timr of several variables and not one"
      ]
    },
    {
      "cell_type": "code",
      "metadata": {
        "colab": {
          "base_uri": "https://localhost:8080/",
          "height": 683
        },
        "id": "q993h8UG-kKh",
        "outputId": "d3c47e9b-9b43-47e1-9e42-4099a28fde15"
      },
      "source": [
        "\r\n",
        "def series_to_supervised(data, lag=1, forc=1, dropnan=True):\r\n",
        "\t\"\"\"\r\n",
        "\tFrame a time series as a supervised learning dataset.\r\n",
        "\tArguments:\r\n",
        "\t\tdata: Sequence of observations as a list or NumPy array.\r\n",
        "\t\tn_in: Number of lag observations as input (X).\r\n",
        "\t\tn_out: Number of observations as output (y).\r\n",
        "\t\tdropnan: Boolean whether or not to drop rows with NaN values.\r\n",
        "\tReturns:\r\n",
        "\t\tPandas DataFrame of series framed for supervised learning.\r\n",
        "\t\"\"\"\r\n",
        "\tn_vars = 1 if type(data) is numpy.ndarray else data.shape[1]\r\n",
        "\tdf = DataFrame(data)\r\n",
        "\tcols, names = list(), list()\r\n",
        "\t# input sequence (t-n, ... t-1)\r\n",
        "\tfor i in range(lag, 0, -1):  #4,3,2,1 except 0\r\n",
        "\t\tcols.append(df.shift(i))\r\n",
        "\t\tnames += [('var%d(t-%d)' % (j+1, i)) for j in range(n_vars)]\r\n",
        "\t# forecast sequence (t, t+1, ... t+n)\r\n",
        "\tfor i in range(0, forc):\r\n",
        "\t\tcols.append(df.shift(-i))\r\n",
        "\t\tif i == 0:\r\n",
        "\t\t\tnames += [('var%d(t)' % (j+1)) for j in range(n_vars)]\r\n",
        "\t\telse:\r\n",
        "\t\t\tnames += [('var%d(t+%d)' % (j+1, i)) for j in range(n_vars)]\r\n",
        "\t# put it all together\r\n",
        "\tagg = concat(cols, axis=1)\r\n",
        "\tagg.columns = names\r\n",
        "\t# drop rows with NaN values\r\n",
        "\tif dropnan:\r\n",
        "\t\tagg.dropna(inplace=True)\r\n",
        "\treturn agg\r\n",
        "\r\n",
        "#temp = df[['Adj_Close','Adj_Volume','HL_PCT',\"PCT_change\"]]\r\n",
        "temp =  df[[\"Adj_Close\",\"Adj_Volume\",\"Adj_Open\",\"Adj_High\",\"Adj_Low\",\"HL_PCT\",\"PCT_change\"]]\r\n",
        "print(temp)\r\n",
        "data = series_to_supervised(temp,0,2,dropnan=True)\r\n",
        "data"
      ],
      "execution_count": 196,
      "outputs": [
        {
          "output_type": "stream",
          "text": [
            "            Adj_Close   Adj_Volume   Adj_Open  ...    Adj_Low     HL_PCT  PCT_change\n",
            "Date                                           ...                                  \n",
            "2013-09-03  15.476472  331928800.0  15.619650  ...  15.437510 -83.891027  -84.523528\n",
            "2013-09-04  15.796753  345032800.0  15.824280  ...  15.720381 -83.607362  -84.203247\n",
            "2013-09-05  15.688388  236367600.0  15.846136  ...  15.636755 -83.811129  -84.311612\n",
            "2013-09-06  15.781833  359525600.0  15.788802  ...  15.519869 -82.521513  -84.218167\n",
            "2013-09-09  16.033661  340687200.0  15.996600  ...  15.948451 -83.379463  -83.966339\n",
            "...               ...          ...        ...  ...        ...        ...         ...\n",
            "2017-12-21  42.101646   83799584.0  41.899570  ...  41.882730 -57.135411  -57.898354\n",
            "2017-12-22  42.101646   65397776.0  42.022259  ...  41.978957 -57.507347  -57.898354\n",
            "2017-12-26  41.033528  132742144.0  41.088858  ...  40.819183 -58.227595  -58.966472\n",
            "2017-12-27  41.040745   85992852.0  40.920461  ...  40.826640 -58.394265  -58.959255\n",
            "2017-12-28  41.156217   65920748.0  41.136972  ...  41.011877 -58.307833  -58.843783\n",
            "\n",
            "[1090 rows x 7 columns]\n"
          ],
          "name": "stdout"
        },
        {
          "output_type": "execute_result",
          "data": {
            "text/html": [
              "<div>\n",
              "<style scoped>\n",
              "    .dataframe tbody tr th:only-of-type {\n",
              "        vertical-align: middle;\n",
              "    }\n",
              "\n",
              "    .dataframe tbody tr th {\n",
              "        vertical-align: top;\n",
              "    }\n",
              "\n",
              "    .dataframe thead th {\n",
              "        text-align: right;\n",
              "    }\n",
              "</style>\n",
              "<table border=\"1\" class=\"dataframe\">\n",
              "  <thead>\n",
              "    <tr style=\"text-align: right;\">\n",
              "      <th></th>\n",
              "      <th>var1(t)</th>\n",
              "      <th>var2(t)</th>\n",
              "      <th>var3(t)</th>\n",
              "      <th>var4(t)</th>\n",
              "      <th>var5(t)</th>\n",
              "      <th>var6(t)</th>\n",
              "      <th>var7(t)</th>\n",
              "      <th>var1(t+1)</th>\n",
              "      <th>var2(t+1)</th>\n",
              "      <th>var3(t+1)</th>\n",
              "      <th>var4(t+1)</th>\n",
              "      <th>var5(t+1)</th>\n",
              "      <th>var6(t+1)</th>\n",
              "      <th>var7(t+1)</th>\n",
              "    </tr>\n",
              "    <tr>\n",
              "      <th>Date</th>\n",
              "      <th></th>\n",
              "      <th></th>\n",
              "      <th></th>\n",
              "      <th></th>\n",
              "      <th></th>\n",
              "      <th></th>\n",
              "      <th></th>\n",
              "      <th></th>\n",
              "      <th></th>\n",
              "      <th></th>\n",
              "      <th></th>\n",
              "      <th></th>\n",
              "      <th></th>\n",
              "      <th></th>\n",
              "    </tr>\n",
              "  </thead>\n",
              "  <tbody>\n",
              "    <tr>\n",
              "      <th>2013-09-03</th>\n",
              "      <td>15.476472</td>\n",
              "      <td>331928800.0</td>\n",
              "      <td>15.619650</td>\n",
              "      <td>15.857223</td>\n",
              "      <td>15.437510</td>\n",
              "      <td>-83.891027</td>\n",
              "      <td>-84.523528</td>\n",
              "      <td>15.796753</td>\n",
              "      <td>345032800.0</td>\n",
              "      <td>15.824280</td>\n",
              "      <td>15.909173</td>\n",
              "      <td>15.720381</td>\n",
              "      <td>-83.607362</td>\n",
              "      <td>-84.203247</td>\n",
              "    </tr>\n",
              "    <tr>\n",
              "      <th>2013-09-04</th>\n",
              "      <td>15.796753</td>\n",
              "      <td>345032800.0</td>\n",
              "      <td>15.824280</td>\n",
              "      <td>15.909173</td>\n",
              "      <td>15.720381</td>\n",
              "      <td>-83.607362</td>\n",
              "      <td>-84.203247</td>\n",
              "      <td>15.688388</td>\n",
              "      <td>236367600.0</td>\n",
              "      <td>15.846136</td>\n",
              "      <td>15.859757</td>\n",
              "      <td>15.636755</td>\n",
              "      <td>-83.811129</td>\n",
              "      <td>-84.311612</td>\n",
              "    </tr>\n",
              "    <tr>\n",
              "      <th>2013-09-05</th>\n",
              "      <td>15.688388</td>\n",
              "      <td>236367600.0</td>\n",
              "      <td>15.846136</td>\n",
              "      <td>15.859757</td>\n",
              "      <td>15.636755</td>\n",
              "      <td>-83.811129</td>\n",
              "      <td>-84.311612</td>\n",
              "      <td>15.781833</td>\n",
              "      <td>359525600.0</td>\n",
              "      <td>15.788802</td>\n",
              "      <td>15.818578</td>\n",
              "      <td>15.519869</td>\n",
              "      <td>-82.521513</td>\n",
              "      <td>-84.218167</td>\n",
              "    </tr>\n",
              "    <tr>\n",
              "      <th>2013-09-06</th>\n",
              "      <td>15.781833</td>\n",
              "      <td>359525600.0</td>\n",
              "      <td>15.788802</td>\n",
              "      <td>15.818578</td>\n",
              "      <td>15.519869</td>\n",
              "      <td>-82.521513</td>\n",
              "      <td>-84.218167</td>\n",
              "      <td>16.033661</td>\n",
              "      <td>340687200.0</td>\n",
              "      <td>15.996600</td>\n",
              "      <td>16.089095</td>\n",
              "      <td>15.948451</td>\n",
              "      <td>-83.379463</td>\n",
              "      <td>-83.966339</td>\n",
              "    </tr>\n",
              "    <tr>\n",
              "      <th>2013-09-09</th>\n",
              "      <td>16.033661</td>\n",
              "      <td>340687200.0</td>\n",
              "      <td>15.996600</td>\n",
              "      <td>16.089095</td>\n",
              "      <td>15.948451</td>\n",
              "      <td>-83.379463</td>\n",
              "      <td>-83.966339</td>\n",
              "      <td>15.668432</td>\n",
              "      <td>743195600.0</td>\n",
              "      <td>16.034611</td>\n",
              "      <td>16.074207</td>\n",
              "      <td>15.505615</td>\n",
              "      <td>-82.886654</td>\n",
              "      <td>-84.331568</td>\n",
              "    </tr>\n",
              "    <tr>\n",
              "      <th>...</th>\n",
              "      <td>...</td>\n",
              "      <td>...</td>\n",
              "      <td>...</td>\n",
              "      <td>...</td>\n",
              "      <td>...</td>\n",
              "      <td>...</td>\n",
              "      <td>...</td>\n",
              "      <td>...</td>\n",
              "      <td>...</td>\n",
              "      <td>...</td>\n",
              "      <td>...</td>\n",
              "      <td>...</td>\n",
              "      <td>...</td>\n",
              "      <td>...</td>\n",
              "    </tr>\n",
              "    <tr>\n",
              "      <th>2017-12-20</th>\n",
              "      <td>41.942872</td>\n",
              "      <td>93902596.0</td>\n",
              "      <td>42.067966</td>\n",
              "      <td>42.200278</td>\n",
              "      <td>41.678248</td>\n",
              "      <td>-57.168807</td>\n",
              "      <td>-58.057128</td>\n",
              "      <td>42.101646</td>\n",
              "      <td>83799584.0</td>\n",
              "      <td>41.899570</td>\n",
              "      <td>42.344619</td>\n",
              "      <td>41.882730</td>\n",
              "      <td>-57.135411</td>\n",
              "      <td>-57.898354</td>\n",
              "    </tr>\n",
              "    <tr>\n",
              "      <th>2017-12-21</th>\n",
              "      <td>42.101646</td>\n",
              "      <td>83799584.0</td>\n",
              "      <td>41.899570</td>\n",
              "      <td>42.344619</td>\n",
              "      <td>41.882730</td>\n",
              "      <td>-57.135411</td>\n",
              "      <td>-57.898354</td>\n",
              "      <td>42.101646</td>\n",
              "      <td>65397776.0</td>\n",
              "      <td>42.022259</td>\n",
              "      <td>42.201241</td>\n",
              "      <td>41.978957</td>\n",
              "      <td>-57.507347</td>\n",
              "      <td>-57.898354</td>\n",
              "    </tr>\n",
              "    <tr>\n",
              "      <th>2017-12-22</th>\n",
              "      <td>42.101646</td>\n",
              "      <td>65397776.0</td>\n",
              "      <td>42.022259</td>\n",
              "      <td>42.201241</td>\n",
              "      <td>41.978957</td>\n",
              "      <td>-57.507347</td>\n",
              "      <td>-57.898354</td>\n",
              "      <td>41.033528</td>\n",
              "      <td>132742144.0</td>\n",
              "      <td>41.088858</td>\n",
              "      <td>41.250038</td>\n",
              "      <td>40.819183</td>\n",
              "      <td>-58.227595</td>\n",
              "      <td>-58.966472</td>\n",
              "    </tr>\n",
              "    <tr>\n",
              "      <th>2017-12-26</th>\n",
              "      <td>41.033528</td>\n",
              "      <td>132742144.0</td>\n",
              "      <td>41.088858</td>\n",
              "      <td>41.250038</td>\n",
              "      <td>40.819183</td>\n",
              "      <td>-58.227595</td>\n",
              "      <td>-58.966472</td>\n",
              "      <td>41.040745</td>\n",
              "      <td>85992852.0</td>\n",
              "      <td>40.920461</td>\n",
              "      <td>41.084047</td>\n",
              "      <td>40.826640</td>\n",
              "      <td>-58.394265</td>\n",
              "      <td>-58.959255</td>\n",
              "    </tr>\n",
              "    <tr>\n",
              "      <th>2017-12-27</th>\n",
              "      <td>41.040745</td>\n",
              "      <td>85992852.0</td>\n",
              "      <td>40.920461</td>\n",
              "      <td>41.084047</td>\n",
              "      <td>40.826640</td>\n",
              "      <td>-58.394265</td>\n",
              "      <td>-58.959255</td>\n",
              "      <td>41.156217</td>\n",
              "      <td>65920748.0</td>\n",
              "      <td>41.136972</td>\n",
              "      <td>41.341454</td>\n",
              "      <td>41.011877</td>\n",
              "      <td>-58.307833</td>\n",
              "      <td>-58.843783</td>\n",
              "    </tr>\n",
              "  </tbody>\n",
              "</table>\n",
              "<p>1089 rows × 14 columns</p>\n",
              "</div>"
            ],
            "text/plain": [
              "              var1(t)      var2(t)    var3(t)  ...  var5(t+1)  var6(t+1)  var7(t+1)\n",
              "Date                                           ...                                 \n",
              "2013-09-03  15.476472  331928800.0  15.619650  ...  15.720381 -83.607362 -84.203247\n",
              "2013-09-04  15.796753  345032800.0  15.824280  ...  15.636755 -83.811129 -84.311612\n",
              "2013-09-05  15.688388  236367600.0  15.846136  ...  15.519869 -82.521513 -84.218167\n",
              "2013-09-06  15.781833  359525600.0  15.788802  ...  15.948451 -83.379463 -83.966339\n",
              "2013-09-09  16.033661  340687200.0  15.996600  ...  15.505615 -82.886654 -84.331568\n",
              "...               ...          ...        ...  ...        ...        ...        ...\n",
              "2017-12-20  41.942872   93902596.0  42.067966  ...  41.882730 -57.135411 -57.898354\n",
              "2017-12-21  42.101646   83799584.0  41.899570  ...  41.978957 -57.507347 -57.898354\n",
              "2017-12-22  42.101646   65397776.0  42.022259  ...  40.819183 -58.227595 -58.966472\n",
              "2017-12-26  41.033528  132742144.0  41.088858  ...  40.826640 -58.394265 -58.959255\n",
              "2017-12-27  41.040745   85992852.0  40.920461  ...  41.011877 -58.307833 -58.843783\n",
              "\n",
              "[1089 rows x 14 columns]"
            ]
          },
          "metadata": {
            "tags": []
          },
          "execution_count": 196
        }
      ]
    },
    {
      "cell_type": "code",
      "metadata": {
        "id": "F9VXrGuZ-WpH"
      },
      "source": [
        "y=data['var1(t+1)'] #Shiftedc Adj_Close column\r\n",
        "x=data.drop(['var1(t+1)'],axis=1)"
      ],
      "execution_count": 197,
      "outputs": []
    },
    {
      "cell_type": "code",
      "metadata": {
        "colab": {
          "base_uri": "https://localhost:8080/"
        },
        "id": "8LnmlnQHAxgl",
        "outputId": "1c0a9e7f-fbba-40fb-85a9-d1c87a8a3ee4"
      },
      "source": [
        "X_train,X_test, y_train, y_test = train_test_split (x,y, test_size=0.3,random_state=41)\r\n",
        "\r\n",
        "norm = MinMaxScaler().fit(X_train)\r\n",
        "X_train=norm.transform(X_train)\r\n",
        "X_test=norm.transform(X_test)\r\n",
        "X_lately=x[-200:]\r\n",
        "X_lately=norm.transform(X_lately)\r\n",
        "X_train.shape  "
      ],
      "execution_count": 198,
      "outputs": [
        {
          "output_type": "execute_result",
          "data": {
            "text/plain": [
              "(762, 13)"
            ]
          },
          "metadata": {
            "tags": []
          },
          "execution_count": 198
        }
      ]
    },
    {
      "cell_type": "code",
      "metadata": {
        "colab": {
          "base_uri": "https://localhost:8080/"
        },
        "id": "keS334WyBq8o",
        "outputId": "6d9fec59-06b4-4379-a521-546e4ad90d3c"
      },
      "source": [
        "reg = LinearRegression()\r\n",
        "reg.fit(X_train,y_train)\r\n",
        "score = reg.score(X_test,y_test)\r\n",
        "\r\n",
        "forecast = []\r\n",
        "forecast = reg.predict(X_lately)\r\n",
        "y_pred =reg.predict(X_test)\r\n",
        "\r\n",
        "mse =  mean_squared_error(y_test,y_pred)\r\n",
        "print(\"MSE: \",mse)\r\n",
        "print(\"LinearReg Score: \",score)\r\n",
        "print(forecast.shape)"
      ],
      "execution_count": 201,
      "outputs": [
        {
          "output_type": "stream",
          "text": [
            "MSE:  3.620557940537292e-29\n",
            "LinearReg Score:  1.0\n",
            "(200,)\n"
          ],
          "name": "stdout"
        }
      ]
    },
    {
      "cell_type": "code",
      "metadata": {
        "colab": {
          "base_uri": "https://localhost:8080/",
          "height": 526
        },
        "id": "BjRqob4sC5ra",
        "outputId": "632bd2e5-1aa4-4cfa-a24a-4626f4bcf4da"
      },
      "source": [
        "full_data = df[-1090:] #1090\r\n",
        "print(full_data.shape)\r\n",
        "pred_data=df[-200:]\r\n",
        "pred_data['Predictions']=forecast\r\n",
        "print(pred_data.shape)\r\n",
        "plt.figure(figsize=(10,6))\r\n",
        "\r\n",
        "plt.plot(full_data[['Adj_Close']])\r\n",
        "plt.plot(pred_data[['Predictions']])"
      ],
      "execution_count": 202,
      "outputs": [
        {
          "output_type": "stream",
          "text": [
            "(1090, 7)\n",
            "(200, 8)\n"
          ],
          "name": "stdout"
        },
        {
          "output_type": "stream",
          "text": [
            "/usr/local/lib/python3.6/dist-packages/ipykernel_launcher.py:4: SettingWithCopyWarning: \n",
            "A value is trying to be set on a copy of a slice from a DataFrame.\n",
            "Try using .loc[row_indexer,col_indexer] = value instead\n",
            "\n",
            "See the caveats in the documentation: https://pandas.pydata.org/pandas-docs/stable/user_guide/indexing.html#returning-a-view-versus-a-copy\n",
            "  after removing the cwd from sys.path.\n"
          ],
          "name": "stderr"
        },
        {
          "output_type": "execute_result",
          "data": {
            "text/plain": [
              "[<matplotlib.lines.Line2D at 0x7f1c8a4820f0>]"
            ]
          },
          "metadata": {
            "tags": []
          },
          "execution_count": 202
        },
        {
          "output_type": "display_data",
          "data": {
            "image/png": "[encoded data removed]",
            "text/plain": [
              "<Figure size 720x432 with 1 Axes>"
            ]
          },
          "metadata": {
            "tags": [],
            "needs_background": "light"
          }
        }
      ]
    },
    {
      "cell_type": "markdown",
      "metadata": {
        "id": "EcNcln30N0h5"
      },
      "source": [
        "# Thank You :)"
      ]
    }
  ]
}