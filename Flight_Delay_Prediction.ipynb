{
  "nbformat": 4,
  "nbformat_minor": 0,
  "metadata": {
    "colab": {
      "name": "Flight_Delay_Prediction.ipynb",
      "provenance": [],
      "authorship_tag": "ABX9TyOFidwGq6fAwl4pks5R/wYf",
      "include_colab_link": true
    },
    "kernelspec": {
      "name": "python3",
      "display_name": "Python 3"
    }
  },
  "cells": [
    {
      "cell_type": "markdown",
      "metadata": {
        "id": "view-in-github",
        "colab_type": "text"
      },
      "source": [
        "<a href=\"https://colab.research.google.com/github/hashiramauchiha/Machine-Learning-Projects/blob/main/Flight_Delay_Prediction.ipynb\" target=\"_parent\"><img src=\"https://colab.research.google.com/assets/colab-badge.svg\" alt=\"Open In Colab\"/></a>"
      ]
    },
    {
      "cell_type": "markdown",
      "metadata": {
        "id": "MLxwIqYXtFz8"
      },
      "source": [
        "# Flight_Delay_Prediction [WIDHYA]"
      ]
    },
    {
      "cell_type": "markdown",
      "metadata": {
        "id": "aTVvy6Sssif6"
      },
      "source": [
        "**Importing Some of the Libraries**"
      ]
    },
    {
      "cell_type": "code",
      "metadata": {
        "id": "H_0QARLJshJE"
      },
      "source": [
        "import pandas as pd\r\n",
        "import seaborn as sns\r\n",
        "from sklearn.model_selection import train_test_split\r\n",
        "from sklearn.preprocessing import StandardScaler\r\n",
        "from sklearn.tree import DecisionTreeClassifier\r\n",
        "from sklearn.metrics import roc_auc_score\r\n",
        "import matplotlib.pyplot as plt\r\n",
        "import numpy as np\r\n",
        "from sklearn import metrics"
      ],
      "execution_count": null,
      "outputs": []
    },
    {
      "cell_type": "code",
      "metadata": {
        "colab": {
          "base_uri": "https://localhost:8080/"
        },
        "id": "WA_AS1ZtuLHq",
        "outputId": "3414c626-776f-4fa2-bea7-dbb0f1d65e0d"
      },
      "source": [
        "!pip install opendatasets"
      ],
      "execution_count": null,
      "outputs": [
        {
          "output_type": "stream",
          "text": [
            "Requirement already satisfied: opendatasets in /usr/local/lib/python3.6/dist-packages (0.1.10)\n",
            "Requirement already satisfied: click in /usr/local/lib/python3.6/dist-packages (from opendatasets) (7.1.2)\n",
            "Requirement already satisfied: tqdm in /usr/local/lib/python3.6/dist-packages (from opendatasets) (4.41.1)\n",
            "Requirement already satisfied: kaggle in /usr/local/lib/python3.6/dist-packages (from opendatasets) (1.5.10)\n",
            "Requirement already satisfied: certifi in /usr/local/lib/python3.6/dist-packages (from kaggle->opendatasets) (2020.12.5)\n",
            "Requirement already satisfied: urllib3 in /usr/local/lib/python3.6/dist-packages (from kaggle->opendatasets) (1.24.3)\n",
            "Requirement already satisfied: requests in /usr/local/lib/python3.6/dist-packages (from kaggle->opendatasets) (2.23.0)\n",
            "Requirement already satisfied: six>=1.10 in /usr/local/lib/python3.6/dist-packages (from kaggle->opendatasets) (1.15.0)\n",
            "Requirement already satisfied: python-dateutil in /usr/local/lib/python3.6/dist-packages (from kaggle->opendatasets) (2.8.1)\n",
            "Requirement already satisfied: python-slugify in /usr/local/lib/python3.6/dist-packages (from kaggle->opendatasets) (4.0.1)\n",
            "Requirement already satisfied: idna<3,>=2.5 in /usr/local/lib/python3.6/dist-packages (from requests->kaggle->opendatasets) (2.10)\n",
            "Requirement already satisfied: chardet<4,>=3.0.2 in /usr/local/lib/python3.6/dist-packages (from requests->kaggle->opendatasets) (3.0.4)\n",
            "Requirement already satisfied: text-unidecode>=1.3 in /usr/local/lib/python3.6/dist-packages (from python-slugify->kaggle->opendatasets) (1.3)\n"
          ],
          "name": "stdout"
        }
      ]
    },
    {
      "cell_type": "code",
      "metadata": {
        "id": "hkykPbtubSF0"
      },
      "source": [
        "import opendatasets as od\r\n",
        "url = 'https://www.kaggle.com/usdot/flight-delays?select=flights.csv'"
      ],
      "execution_count": null,
      "outputs": []
    },
    {
      "cell_type": "code",
      "metadata": {
        "colab": {
          "base_uri": "https://localhost:8080/"
        },
        "id": "KKqiJC8AbgBx",
        "outputId": "0107b870-3f3a-4efb-faa9-f7bec6619a3d"
      },
      "source": [
        "od.download(url, '.')"
      ],
      "execution_count": null,
      "outputs": [
        {
          "output_type": "stream",
          "text": [
            "Please provide your Kaggle credentials to download this dataset. Learn more: http://bit.ly/kaggle-creds\n",
            "Your Kaggle username: art3mix\n",
            "Your Kaggle Key: ··········\n"
          ],
          "name": "stdout"
        },
        {
          "output_type": "stream",
          "text": [
            "  3%|▎         | 6.00M/191M [00:00<00:03, 58.0MB/s]"
          ],
          "name": "stderr"
        },
        {
          "output_type": "stream",
          "text": [
            "Downloading flight-delays.zip to ./flight-delays\n"
          ],
          "name": "stdout"
        },
        {
          "output_type": "stream",
          "text": [
            "100%|██████████| 191M/191M [00:01<00:00, 128MB/s]\n"
          ],
          "name": "stderr"
        },
        {
          "output_type": "stream",
          "text": [
            "\n"
          ],
          "name": "stdout"
        }
      ]
    },
    {
      "cell_type": "code",
      "metadata": {
        "id": "gQxrd6Jlb3m-"
      },
      "source": [
        "import os"
      ],
      "execution_count": null,
      "outputs": []
    },
    {
      "cell_type": "code",
      "metadata": {
        "colab": {
          "base_uri": "https://localhost:8080/"
        },
        "id": "uYcwYY9fcgHu",
        "outputId": "cb4fe8e9-553c-496b-8966-425d00536261"
      },
      "source": [
        "os.listdir( '.')"
      ],
      "execution_count": null,
      "outputs": [
        {
          "output_type": "execute_result",
          "data": {
            "text/plain": [
              "['.config', 'flight-delays', 'sample_data']"
            ]
          },
          "metadata": {
            "tags": []
          },
          "execution_count": 42
        }
      ]
    },
    {
      "cell_type": "code",
      "metadata": {
        "id": "0PrM_9sZchuo"
      },
      "source": [
        "dataframe_path = '/content/flight-delays/flights.csv'"
      ],
      "execution_count": null,
      "outputs": []
    },
    {
      "cell_type": "code",
      "metadata": {
        "id": "Blbp0B_hc0vV"
      },
      "source": [
        "dataframe_raw = pd.read_csv(dataframe_path, low_memory=False)"
      ],
      "execution_count": null,
      "outputs": []
    },
    {
      "cell_type": "code",
      "metadata": {
        "colab": {
          "base_uri": "https://localhost:8080/"
        },
        "id": "75Op0fcddJz6",
        "outputId": "59f6b8e3-67ce-4580-f3ea-c33626aef5ca"
      },
      "source": [
        "dataframe_raw.info()"
      ],
      "execution_count": null,
      "outputs": [
        {
          "output_type": "stream",
          "text": [
            "<class 'pandas.core.frame.DataFrame'>\n",
            "RangeIndex: 5819079 entries, 0 to 5819078\n",
            "Data columns (total 31 columns):\n",
            " #   Column               Dtype  \n",
            "---  ------               -----  \n",
            " 0   YEAR                 int64  \n",
            " 1   MONTH                int64  \n",
            " 2   DAY                  int64  \n",
            " 3   DAY_OF_WEEK          int64  \n",
            " 4   AIRLINE              object \n",
            " 5   FLIGHT_NUMBER        int64  \n",
            " 6   TAIL_NUMBER          object \n",
            " 7   ORIGIN_AIRPORT       object \n",
            " 8   DESTINATION_AIRPORT  object \n",
            " 9   SCHEDULED_DEPARTURE  int64  \n",
            " 10  DEPARTURE_TIME       float64\n",
            " 11  DEPARTURE_DELAY      float64\n",
            " 12  TAXI_OUT             float64\n",
            " 13  WHEELS_OFF           float64\n",
            " 14  SCHEDULED_TIME       float64\n",
            " 15  ELAPSED_TIME         float64\n",
            " 16  AIR_TIME             float64\n",
            " 17  DISTANCE             int64  \n",
            " 18  WHEELS_ON            float64\n",
            " 19  TAXI_IN              float64\n",
            " 20  SCHEDULED_ARRIVAL    int64  \n",
            " 21  ARRIVAL_TIME         float64\n",
            " 22  ARRIVAL_DELAY        float64\n",
            " 23  DIVERTED             int64  \n",
            " 24  CANCELLED            int64  \n",
            " 25  CANCELLATION_REASON  object \n",
            " 26  AIR_SYSTEM_DELAY     float64\n",
            " 27  SECURITY_DELAY       float64\n",
            " 28  AIRLINE_DELAY        float64\n",
            " 29  LATE_AIRCRAFT_DELAY  float64\n",
            " 30  WEATHER_DELAY        float64\n",
            "dtypes: float64(16), int64(10), object(5)\n",
            "memory usage: 1.3+ GB\n"
          ],
          "name": "stdout"
        }
      ]
    },
    {
      "cell_type": "code",
      "metadata": {
        "id": "fpHsWYo_eAGb"
      },
      "source": [
        "df = dataframe_raw.copy( deep=True)"
      ],
      "execution_count": null,
      "outputs": []
    },
    {
      "cell_type": "markdown",
      "metadata": {
        "id": "RQhr7jSQfYF8"
      },
      "source": [
        "Taking 100000 rows from dataset"
      ]
    },
    {
      "cell_type": "code",
      "metadata": {
        "id": "0gDLzo44e0xI"
      },
      "source": [
        "df = df[0:100000]"
      ],
      "execution_count": null,
      "outputs": []
    },
    {
      "cell_type": "code",
      "metadata": {
        "colab": {
          "base_uri": "https://localhost:8080/"
        },
        "id": "SlYFXJGSfkfD",
        "outputId": "559ed20b-bf70-450b-8a83-b13855eeb3d3"
      },
      "source": [
        "len(df)"
      ],
      "execution_count": null,
      "outputs": [
        {
          "output_type": "execute_result",
          "data": {
            "text/plain": [
              "100000"
            ]
          },
          "metadata": {
            "tags": []
          },
          "execution_count": 48
        }
      ]
    },
    {
      "cell_type": "code",
      "metadata": {
        "colab": {
          "base_uri": "https://localhost:8080/"
        },
        "id": "HiiWFxw_fl7m",
        "outputId": "dbb4fea2-903b-490f-951e-8a6fd361ee7b"
      },
      "source": [
        "df.info()"
      ],
      "execution_count": null,
      "outputs": [
        {
          "output_type": "stream",
          "text": [
            "<class 'pandas.core.frame.DataFrame'>\n",
            "RangeIndex: 100000 entries, 0 to 99999\n",
            "Data columns (total 31 columns):\n",
            " #   Column               Non-Null Count   Dtype  \n",
            "---  ------               --------------   -----  \n",
            " 0   YEAR                 100000 non-null  int64  \n",
            " 1   MONTH                100000 non-null  int64  \n",
            " 2   DAY                  100000 non-null  int64  \n",
            " 3   DAY_OF_WEEK          100000 non-null  int64  \n",
            " 4   AIRLINE              100000 non-null  object \n",
            " 5   FLIGHT_NUMBER        100000 non-null  int64  \n",
            " 6   TAIL_NUMBER          99833 non-null   object \n",
            " 7   ORIGIN_AIRPORT       100000 non-null  object \n",
            " 8   DESTINATION_AIRPORT  100000 non-null  object \n",
            " 9   SCHEDULED_DEPARTURE  100000 non-null  int64  \n",
            " 10  DEPARTURE_TIME       97702 non-null   float64\n",
            " 11  DEPARTURE_DELAY      97702 non-null   float64\n",
            " 12  TAXI_OUT             97629 non-null   float64\n",
            " 13  WHEELS_OFF           97629 non-null   float64\n",
            " 14  SCHEDULED_TIME       100000 non-null  float64\n",
            " 15  ELAPSED_TIME         97387 non-null   float64\n",
            " 16  AIR_TIME             97387 non-null   float64\n",
            " 17  DISTANCE             100000 non-null  int64  \n",
            " 18  WHEELS_ON            97560 non-null   float64\n",
            " 19  TAXI_IN              97560 non-null   float64\n",
            " 20  SCHEDULED_ARRIVAL    100000 non-null  int64  \n",
            " 21  ARRIVAL_TIME         97560 non-null   float64\n",
            " 22  ARRIVAL_DELAY        97387 non-null   float64\n",
            " 23  DIVERTED             100000 non-null  int64  \n",
            " 24  CANCELLED            100000 non-null  int64  \n",
            " 25  CANCELLATION_REASON  2389 non-null    object \n",
            " 26  AIR_SYSTEM_DELAY     34625 non-null   float64\n",
            " 27  SECURITY_DELAY       34625 non-null   float64\n",
            " 28  AIRLINE_DELAY        34625 non-null   float64\n",
            " 29  LATE_AIRCRAFT_DELAY  34625 non-null   float64\n",
            " 30  WEATHER_DELAY        34625 non-null   float64\n",
            "dtypes: float64(16), int64(10), object(5)\n",
            "memory usage: 23.7+ MB\n"
          ],
          "name": "stdout"
        }
      ]
    },
    {
      "cell_type": "code",
      "metadata": {
        "colab": {
          "base_uri": "https://localhost:8080/"
        },
        "id": "hv15ULiCgQM9",
        "outputId": "e7a65b77-89ea-45ea-e506-c23385da6677"
      },
      "source": [
        "df.value_counts('DIVERTED')"
      ],
      "execution_count": null,
      "outputs": [
        {
          "output_type": "execute_result",
          "data": {
            "text/plain": [
              "DIVERTED\n",
              "0    99776\n",
              "1      224\n",
              "dtype: int64"
            ]
          },
          "metadata": {
            "tags": []
          },
          "execution_count": 50
        }
      ]
    },
    {
      "cell_type": "code",
      "metadata": {
        "colab": {
          "base_uri": "https://localhost:8080/",
          "height": 837
        },
        "id": "tcv6shg8gVYi",
        "outputId": "3efc1114-58de-4de6-c990-9d1cbcc81141"
      },
      "source": [
        "df.corr()"
      ],
      "execution_count": null,
      "outputs": [
        {
          "output_type": "execute_result",
          "data": {
            "text/html": [
              "<div>\n",
              "<style scoped>\n",
              "    .dataframe tbody tr th:only-of-type {\n",
              "        vertical-align: middle;\n",
              "    }\n",
              "\n",
              "    .dataframe tbody tr th {\n",
              "        vertical-align: top;\n",
              "    }\n",
              "\n",
              "    .dataframe thead th {\n",
              "        text-align: right;\n",
              "    }\n",
              "</style>\n",
              "<table border=\"1\" class=\"dataframe\">\n",
              "  <thead>\n",
              "    <tr style=\"text-align: right;\">\n",
              "      <th></th>\n",
              "      <th>YEAR</th>\n",
              "      <th>MONTH</th>\n",
              "      <th>DAY</th>\n",
              "      <th>DAY_OF_WEEK</th>\n",
              "      <th>FLIGHT_NUMBER</th>\n",
              "      <th>SCHEDULED_DEPARTURE</th>\n",
              "      <th>DEPARTURE_TIME</th>\n",
              "      <th>DEPARTURE_DELAY</th>\n",
              "      <th>TAXI_OUT</th>\n",
              "      <th>WHEELS_OFF</th>\n",
              "      <th>SCHEDULED_TIME</th>\n",
              "      <th>ELAPSED_TIME</th>\n",
              "      <th>AIR_TIME</th>\n",
              "      <th>DISTANCE</th>\n",
              "      <th>WHEELS_ON</th>\n",
              "      <th>TAXI_IN</th>\n",
              "      <th>SCHEDULED_ARRIVAL</th>\n",
              "      <th>ARRIVAL_TIME</th>\n",
              "      <th>ARRIVAL_DELAY</th>\n",
              "      <th>DIVERTED</th>\n",
              "      <th>CANCELLED</th>\n",
              "      <th>AIR_SYSTEM_DELAY</th>\n",
              "      <th>SECURITY_DELAY</th>\n",
              "      <th>AIRLINE_DELAY</th>\n",
              "      <th>LATE_AIRCRAFT_DELAY</th>\n",
              "      <th>WEATHER_DELAY</th>\n",
              "    </tr>\n",
              "  </thead>\n",
              "  <tbody>\n",
              "    <tr>\n",
              "      <th>YEAR</th>\n",
              "      <td>NaN</td>\n",
              "      <td>NaN</td>\n",
              "      <td>NaN</td>\n",
              "      <td>NaN</td>\n",
              "      <td>NaN</td>\n",
              "      <td>NaN</td>\n",
              "      <td>NaN</td>\n",
              "      <td>NaN</td>\n",
              "      <td>NaN</td>\n",
              "      <td>NaN</td>\n",
              "      <td>NaN</td>\n",
              "      <td>NaN</td>\n",
              "      <td>NaN</td>\n",
              "      <td>NaN</td>\n",
              "      <td>NaN</td>\n",
              "      <td>NaN</td>\n",
              "      <td>NaN</td>\n",
              "      <td>NaN</td>\n",
              "      <td>NaN</td>\n",
              "      <td>NaN</td>\n",
              "      <td>NaN</td>\n",
              "      <td>NaN</td>\n",
              "      <td>NaN</td>\n",
              "      <td>NaN</td>\n",
              "      <td>NaN</td>\n",
              "      <td>NaN</td>\n",
              "    </tr>\n",
              "    <tr>\n",
              "      <th>MONTH</th>\n",
              "      <td>NaN</td>\n",
              "      <td>NaN</td>\n",
              "      <td>NaN</td>\n",
              "      <td>NaN</td>\n",
              "      <td>NaN</td>\n",
              "      <td>NaN</td>\n",
              "      <td>NaN</td>\n",
              "      <td>NaN</td>\n",
              "      <td>NaN</td>\n",
              "      <td>NaN</td>\n",
              "      <td>NaN</td>\n",
              "      <td>NaN</td>\n",
              "      <td>NaN</td>\n",
              "      <td>NaN</td>\n",
              "      <td>NaN</td>\n",
              "      <td>NaN</td>\n",
              "      <td>NaN</td>\n",
              "      <td>NaN</td>\n",
              "      <td>NaN</td>\n",
              "      <td>NaN</td>\n",
              "      <td>NaN</td>\n",
              "      <td>NaN</td>\n",
              "      <td>NaN</td>\n",
              "      <td>NaN</td>\n",
              "      <td>NaN</td>\n",
              "      <td>NaN</td>\n",
              "    </tr>\n",
              "    <tr>\n",
              "      <th>DAY</th>\n",
              "      <td>NaN</td>\n",
              "      <td>NaN</td>\n",
              "      <td>1.000000</td>\n",
              "      <td>-0.497084</td>\n",
              "      <td>0.004412</td>\n",
              "      <td>-0.138130</td>\n",
              "      <td>-0.124369</td>\n",
              "      <td>0.060064</td>\n",
              "      <td>0.093451</td>\n",
              "      <td>-0.119781</td>\n",
              "      <td>-0.026285</td>\n",
              "      <td>-0.018470</td>\n",
              "      <td>-0.036330</td>\n",
              "      <td>-0.035208</td>\n",
              "      <td>-0.095731</td>\n",
              "      <td>0.037407</td>\n",
              "      <td>-0.110820</td>\n",
              "      <td>-0.091687</td>\n",
              "      <td>0.070770</td>\n",
              "      <td>0.004847</td>\n",
              "      <td>-0.006000</td>\n",
              "      <td>0.097693</td>\n",
              "      <td>-0.010550</td>\n",
              "      <td>-0.001603</td>\n",
              "      <td>0.033213</td>\n",
              "      <td>0.061960</td>\n",
              "    </tr>\n",
              "    <tr>\n",
              "      <th>DAY_OF_WEEK</th>\n",
              "      <td>NaN</td>\n",
              "      <td>NaN</td>\n",
              "      <td>-0.497084</td>\n",
              "      <td>1.000000</td>\n",
              "      <td>0.010955</td>\n",
              "      <td>0.046914</td>\n",
              "      <td>0.045182</td>\n",
              "      <td>0.055632</td>\n",
              "      <td>0.007291</td>\n",
              "      <td>0.044150</td>\n",
              "      <td>0.019755</td>\n",
              "      <td>0.029025</td>\n",
              "      <td>0.030678</td>\n",
              "      <td>0.024666</td>\n",
              "      <td>0.013749</td>\n",
              "      <td>-0.017789</td>\n",
              "      <td>0.031725</td>\n",
              "      <td>0.011477</td>\n",
              "      <td>0.067520</td>\n",
              "      <td>-0.000709</td>\n",
              "      <td>-0.006409</td>\n",
              "      <td>-0.019626</td>\n",
              "      <td>0.008156</td>\n",
              "      <td>0.003648</td>\n",
              "      <td>0.033729</td>\n",
              "      <td>-0.050835</td>\n",
              "    </tr>\n",
              "    <tr>\n",
              "      <th>FLIGHT_NUMBER</th>\n",
              "      <td>NaN</td>\n",
              "      <td>NaN</td>\n",
              "      <td>0.004412</td>\n",
              "      <td>0.010955</td>\n",
              "      <td>1.000000</td>\n",
              "      <td>-0.003027</td>\n",
              "      <td>0.010140</td>\n",
              "      <td>0.034863</td>\n",
              "      <td>0.061010</td>\n",
              "      <td>0.016377</td>\n",
              "      <td>-0.337801</td>\n",
              "      <td>-0.318819</td>\n",
              "      <td>-0.339135</td>\n",
              "      <td>-0.356196</td>\n",
              "      <td>-0.003670</td>\n",
              "      <td>0.014464</td>\n",
              "      <td>-0.018891</td>\n",
              "      <td>0.000753</td>\n",
              "      <td>0.056163</td>\n",
              "      <td>0.007155</td>\n",
              "      <td>0.090008</td>\n",
              "      <td>-0.032564</td>\n",
              "      <td>-0.007260</td>\n",
              "      <td>0.023770</td>\n",
              "      <td>0.076581</td>\n",
              "      <td>0.004246</td>\n",
              "    </tr>\n",
              "    <tr>\n",
              "      <th>SCHEDULED_DEPARTURE</th>\n",
              "      <td>NaN</td>\n",
              "      <td>NaN</td>\n",
              "      <td>-0.138130</td>\n",
              "      <td>0.046914</td>\n",
              "      <td>-0.003027</td>\n",
              "      <td>1.000000</td>\n",
              "      <td>0.943186</td>\n",
              "      <td>0.174254</td>\n",
              "      <td>-0.081496</td>\n",
              "      <td>0.912232</td>\n",
              "      <td>-0.019873</td>\n",
              "      <td>-0.025744</td>\n",
              "      <td>-0.011993</td>\n",
              "      <td>0.000321</td>\n",
              "      <td>0.585786</td>\n",
              "      <td>-0.027502</td>\n",
              "      <td>0.731240</td>\n",
              "      <td>0.552653</td>\n",
              "      <td>0.154951</td>\n",
              "      <td>0.002515</td>\n",
              "      <td>-0.002631</td>\n",
              "      <td>-0.112393</td>\n",
              "      <td>-0.017957</td>\n",
              "      <td>-0.054419</td>\n",
              "      <td>0.186286</td>\n",
              "      <td>-0.042004</td>\n",
              "    </tr>\n",
              "    <tr>\n",
              "      <th>DEPARTURE_TIME</th>\n",
              "      <td>NaN</td>\n",
              "      <td>NaN</td>\n",
              "      <td>-0.124369</td>\n",
              "      <td>0.045182</td>\n",
              "      <td>0.010140</td>\n",
              "      <td>0.943186</td>\n",
              "      <td>1.000000</td>\n",
              "      <td>0.243960</td>\n",
              "      <td>-0.070081</td>\n",
              "      <td>0.966477</td>\n",
              "      <td>-0.031873</td>\n",
              "      <td>-0.035204</td>\n",
              "      <td>-0.024384</td>\n",
              "      <td>-0.016562</td>\n",
              "      <td>0.618850</td>\n",
              "      <td>-0.017759</td>\n",
              "      <td>0.734970</td>\n",
              "      <td>0.584615</td>\n",
              "      <td>0.223654</td>\n",
              "      <td>0.006576</td>\n",
              "      <td>0.009679</td>\n",
              "      <td>-0.093096</td>\n",
              "      <td>-0.012820</td>\n",
              "      <td>-0.013304</td>\n",
              "      <td>0.247325</td>\n",
              "      <td>-0.046406</td>\n",
              "    </tr>\n",
              "    <tr>\n",
              "      <th>DEPARTURE_DELAY</th>\n",
              "      <td>NaN</td>\n",
              "      <td>NaN</td>\n",
              "      <td>0.060064</td>\n",
              "      <td>0.055632</td>\n",
              "      <td>0.034863</td>\n",
              "      <td>0.174254</td>\n",
              "      <td>0.243960</td>\n",
              "      <td>1.000000</td>\n",
              "      <td>0.061905</td>\n",
              "      <td>0.231399</td>\n",
              "      <td>0.005868</td>\n",
              "      <td>0.015257</td>\n",
              "      <td>0.002733</td>\n",
              "      <td>0.004591</td>\n",
              "      <td>0.090696</td>\n",
              "      <td>0.040285</td>\n",
              "      <td>0.155150</td>\n",
              "      <td>0.079639</td>\n",
              "      <td>0.950838</td>\n",
              "      <td>0.020787</td>\n",
              "      <td>0.030862</td>\n",
              "      <td>0.085794</td>\n",
              "      <td>0.008040</td>\n",
              "      <td>0.606954</td>\n",
              "      <td>0.605289</td>\n",
              "      <td>0.210402</td>\n",
              "    </tr>\n",
              "    <tr>\n",
              "      <th>TAXI_OUT</th>\n",
              "      <td>NaN</td>\n",
              "      <td>NaN</td>\n",
              "      <td>0.093451</td>\n",
              "      <td>0.007291</td>\n",
              "      <td>0.061010</td>\n",
              "      <td>-0.081496</td>\n",
              "      <td>-0.070081</td>\n",
              "      <td>0.061905</td>\n",
              "      <td>1.000000</td>\n",
              "      <td>-0.043114</td>\n",
              "      <td>0.096191</td>\n",
              "      <td>0.215749</td>\n",
              "      <td>0.077234</td>\n",
              "      <td>0.057871</td>\n",
              "      <td>-0.045096</td>\n",
              "      <td>0.009041</td>\n",
              "      <td>-0.062325</td>\n",
              "      <td>-0.045611</td>\n",
              "      <td>0.245363</td>\n",
              "      <td>0.009810</td>\n",
              "      <td>0.010763</td>\n",
              "      <td>0.407371</td>\n",
              "      <td>-0.008021</td>\n",
              "      <td>-0.024674</td>\n",
              "      <td>-0.129879</td>\n",
              "      <td>0.119412</td>\n",
              "    </tr>\n",
              "    <tr>\n",
              "      <th>WHEELS_OFF</th>\n",
              "      <td>NaN</td>\n",
              "      <td>NaN</td>\n",
              "      <td>-0.119781</td>\n",
              "      <td>0.044150</td>\n",
              "      <td>0.016377</td>\n",
              "      <td>0.912232</td>\n",
              "      <td>0.966477</td>\n",
              "      <td>0.231399</td>\n",
              "      <td>-0.043114</td>\n",
              "      <td>1.000000</td>\n",
              "      <td>-0.038173</td>\n",
              "      <td>-0.038217</td>\n",
              "      <td>-0.031646</td>\n",
              "      <td>-0.027282</td>\n",
              "      <td>0.642358</td>\n",
              "      <td>-0.015089</td>\n",
              "      <td>0.744697</td>\n",
              "      <td>0.608611</td>\n",
              "      <td>0.217344</td>\n",
              "      <td>0.006524</td>\n",
              "      <td>0.001293</td>\n",
              "      <td>-0.085582</td>\n",
              "      <td>-0.013912</td>\n",
              "      <td>-0.017376</td>\n",
              "      <td>0.223010</td>\n",
              "      <td>-0.055273</td>\n",
              "    </tr>\n",
              "    <tr>\n",
              "      <th>SCHEDULED_TIME</th>\n",
              "      <td>NaN</td>\n",
              "      <td>NaN</td>\n",
              "      <td>-0.026285</td>\n",
              "      <td>0.019755</td>\n",
              "      <td>-0.337801</td>\n",
              "      <td>-0.019873</td>\n",
              "      <td>-0.031873</td>\n",
              "      <td>0.005868</td>\n",
              "      <td>0.096191</td>\n",
              "      <td>-0.038173</td>\n",
              "      <td>1.000000</td>\n",
              "      <td>0.980411</td>\n",
              "      <td>0.990844</td>\n",
              "      <td>0.978875</td>\n",
              "      <td>0.019403</td>\n",
              "      <td>0.064659</td>\n",
              "      <td>0.035598</td>\n",
              "      <td>0.014674</td>\n",
              "      <td>-0.022043</td>\n",
              "      <td>0.015000</td>\n",
              "      <td>-0.074084</td>\n",
              "      <td>0.056865</td>\n",
              "      <td>0.009740</td>\n",
              "      <td>0.032593</td>\n",
              "      <td>-0.084673</td>\n",
              "      <td>-0.001975</td>\n",
              "    </tr>\n",
              "    <tr>\n",
              "      <th>ELAPSED_TIME</th>\n",
              "      <td>NaN</td>\n",
              "      <td>NaN</td>\n",
              "      <td>-0.018470</td>\n",
              "      <td>0.029025</td>\n",
              "      <td>-0.318819</td>\n",
              "      <td>-0.025744</td>\n",
              "      <td>-0.035204</td>\n",
              "      <td>0.015257</td>\n",
              "      <td>0.215749</td>\n",
              "      <td>-0.038217</td>\n",
              "      <td>0.980411</td>\n",
              "      <td>1.000000</td>\n",
              "      <td>0.985238</td>\n",
              "      <td>0.958904</td>\n",
              "      <td>0.022142</td>\n",
              "      <td>0.148959</td>\n",
              "      <td>0.031223</td>\n",
              "      <td>0.016711</td>\n",
              "      <td>0.048448</td>\n",
              "      <td>NaN</td>\n",
              "      <td>NaN</td>\n",
              "      <td>0.190842</td>\n",
              "      <td>0.007724</td>\n",
              "      <td>0.009438</td>\n",
              "      <td>-0.118290</td>\n",
              "      <td>0.014470</td>\n",
              "    </tr>\n",
              "    <tr>\n",
              "      <th>AIR_TIME</th>\n",
              "      <td>NaN</td>\n",
              "      <td>NaN</td>\n",
              "      <td>-0.036330</td>\n",
              "      <td>0.030678</td>\n",
              "      <td>-0.339135</td>\n",
              "      <td>-0.011993</td>\n",
              "      <td>-0.024384</td>\n",
              "      <td>0.002733</td>\n",
              "      <td>0.077234</td>\n",
              "      <td>-0.031646</td>\n",
              "      <td>0.990844</td>\n",
              "      <td>0.985238</td>\n",
              "      <td>1.000000</td>\n",
              "      <td>0.976169</td>\n",
              "      <td>0.027884</td>\n",
              "      <td>0.050703</td>\n",
              "      <td>0.041368</td>\n",
              "      <td>0.022517</td>\n",
              "      <td>-0.002742</td>\n",
              "      <td>NaN</td>\n",
              "      <td>NaN</td>\n",
              "      <td>0.072436</td>\n",
              "      <td>0.010442</td>\n",
              "      <td>0.022433</td>\n",
              "      <td>-0.096358</td>\n",
              "      <td>-0.006582</td>\n",
              "    </tr>\n",
              "    <tr>\n",
              "      <th>DISTANCE</th>\n",
              "      <td>NaN</td>\n",
              "      <td>NaN</td>\n",
              "      <td>-0.035208</td>\n",
              "      <td>0.024666</td>\n",
              "      <td>-0.356196</td>\n",
              "      <td>0.000321</td>\n",
              "      <td>-0.016562</td>\n",
              "      <td>0.004591</td>\n",
              "      <td>0.057871</td>\n",
              "      <td>-0.027282</td>\n",
              "      <td>0.978875</td>\n",
              "      <td>0.958904</td>\n",
              "      <td>0.976169</td>\n",
              "      <td>1.000000</td>\n",
              "      <td>0.023940</td>\n",
              "      <td>0.045389</td>\n",
              "      <td>0.044615</td>\n",
              "      <td>0.017333</td>\n",
              "      <td>-0.023821</td>\n",
              "      <td>0.013996</td>\n",
              "      <td>-0.076796</td>\n",
              "      <td>0.041963</td>\n",
              "      <td>0.011547</td>\n",
              "      <td>0.030500</td>\n",
              "      <td>-0.086155</td>\n",
              "      <td>-0.010430</td>\n",
              "    </tr>\n",
              "    <tr>\n",
              "      <th>WHEELS_ON</th>\n",
              "      <td>NaN</td>\n",
              "      <td>NaN</td>\n",
              "      <td>-0.095731</td>\n",
              "      <td>0.013749</td>\n",
              "      <td>-0.003670</td>\n",
              "      <td>0.585786</td>\n",
              "      <td>0.618850</td>\n",
              "      <td>0.090696</td>\n",
              "      <td>-0.045096</td>\n",
              "      <td>0.642358</td>\n",
              "      <td>0.019403</td>\n",
              "      <td>0.022142</td>\n",
              "      <td>0.027884</td>\n",
              "      <td>0.023940</td>\n",
              "      <td>1.000000</td>\n",
              "      <td>0.014332</td>\n",
              "      <td>0.799303</td>\n",
              "      <td>0.959177</td>\n",
              "      <td>0.088131</td>\n",
              "      <td>-0.000289</td>\n",
              "      <td>NaN</td>\n",
              "      <td>-0.049010</td>\n",
              "      <td>-0.012903</td>\n",
              "      <td>-0.056574</td>\n",
              "      <td>0.054199</td>\n",
              "      <td>-0.057202</td>\n",
              "    </tr>\n",
              "    <tr>\n",
              "      <th>TAXI_IN</th>\n",
              "      <td>NaN</td>\n",
              "      <td>NaN</td>\n",
              "      <td>0.037407</td>\n",
              "      <td>-0.017789</td>\n",
              "      <td>0.014464</td>\n",
              "      <td>-0.027502</td>\n",
              "      <td>-0.017759</td>\n",
              "      <td>0.040285</td>\n",
              "      <td>0.009041</td>\n",
              "      <td>-0.015089</td>\n",
              "      <td>0.064659</td>\n",
              "      <td>0.148959</td>\n",
              "      <td>0.050703</td>\n",
              "      <td>0.045389</td>\n",
              "      <td>0.014332</td>\n",
              "      <td>1.000000</td>\n",
              "      <td>-0.001440</td>\n",
              "      <td>0.012095</td>\n",
              "      <td>0.170073</td>\n",
              "      <td>0.006915</td>\n",
              "      <td>NaN</td>\n",
              "      <td>0.299436</td>\n",
              "      <td>-0.005075</td>\n",
              "      <td>-0.051595</td>\n",
              "      <td>-0.004698</td>\n",
              "      <td>-0.018058</td>\n",
              "    </tr>\n",
              "    <tr>\n",
              "      <th>SCHEDULED_ARRIVAL</th>\n",
              "      <td>NaN</td>\n",
              "      <td>NaN</td>\n",
              "      <td>-0.110820</td>\n",
              "      <td>0.031725</td>\n",
              "      <td>-0.018891</td>\n",
              "      <td>0.731240</td>\n",
              "      <td>0.734970</td>\n",
              "      <td>0.155150</td>\n",
              "      <td>-0.062325</td>\n",
              "      <td>0.744697</td>\n",
              "      <td>0.035598</td>\n",
              "      <td>0.031223</td>\n",
              "      <td>0.041368</td>\n",
              "      <td>0.044615</td>\n",
              "      <td>0.799303</td>\n",
              "      <td>-0.001440</td>\n",
              "      <td>1.000000</td>\n",
              "      <td>0.771945</td>\n",
              "      <td>0.140565</td>\n",
              "      <td>0.005992</td>\n",
              "      <td>-0.013131</td>\n",
              "      <td>-0.064453</td>\n",
              "      <td>-0.008270</td>\n",
              "      <td>-0.050435</td>\n",
              "      <td>0.146386</td>\n",
              "      <td>-0.043930</td>\n",
              "    </tr>\n",
              "    <tr>\n",
              "      <th>ARRIVAL_TIME</th>\n",
              "      <td>NaN</td>\n",
              "      <td>NaN</td>\n",
              "      <td>-0.091687</td>\n",
              "      <td>0.011477</td>\n",
              "      <td>0.000753</td>\n",
              "      <td>0.552653</td>\n",
              "      <td>0.584615</td>\n",
              "      <td>0.079639</td>\n",
              "      <td>-0.045611</td>\n",
              "      <td>0.608611</td>\n",
              "      <td>0.014674</td>\n",
              "      <td>0.016711</td>\n",
              "      <td>0.022517</td>\n",
              "      <td>0.017333</td>\n",
              "      <td>0.959177</td>\n",
              "      <td>0.012095</td>\n",
              "      <td>0.771945</td>\n",
              "      <td>1.000000</td>\n",
              "      <td>0.076791</td>\n",
              "      <td>-0.002489</td>\n",
              "      <td>NaN</td>\n",
              "      <td>-0.052236</td>\n",
              "      <td>-0.014825</td>\n",
              "      <td>-0.057557</td>\n",
              "      <td>0.050115</td>\n",
              "      <td>-0.058355</td>\n",
              "    </tr>\n",
              "    <tr>\n",
              "      <th>ARRIVAL_DELAY</th>\n",
              "      <td>NaN</td>\n",
              "      <td>NaN</td>\n",
              "      <td>0.070770</td>\n",
              "      <td>0.067520</td>\n",
              "      <td>0.056163</td>\n",
              "      <td>0.154951</td>\n",
              "      <td>0.223654</td>\n",
              "      <td>0.950838</td>\n",
              "      <td>0.245363</td>\n",
              "      <td>0.217344</td>\n",
              "      <td>-0.022043</td>\n",
              "      <td>0.048448</td>\n",
              "      <td>-0.002742</td>\n",
              "      <td>-0.023821</td>\n",
              "      <td>0.088131</td>\n",
              "      <td>0.170073</td>\n",
              "      <td>0.140565</td>\n",
              "      <td>0.076791</td>\n",
              "      <td>1.000000</td>\n",
              "      <td>NaN</td>\n",
              "      <td>NaN</td>\n",
              "      <td>0.259700</td>\n",
              "      <td>0.006070</td>\n",
              "      <td>0.592718</td>\n",
              "      <td>0.572956</td>\n",
              "      <td>0.235906</td>\n",
              "    </tr>\n",
              "    <tr>\n",
              "      <th>DIVERTED</th>\n",
              "      <td>NaN</td>\n",
              "      <td>NaN</td>\n",
              "      <td>0.004847</td>\n",
              "      <td>-0.000709</td>\n",
              "      <td>0.007155</td>\n",
              "      <td>0.002515</td>\n",
              "      <td>0.006576</td>\n",
              "      <td>0.020787</td>\n",
              "      <td>0.009810</td>\n",
              "      <td>0.006524</td>\n",
              "      <td>0.015000</td>\n",
              "      <td>NaN</td>\n",
              "      <td>NaN</td>\n",
              "      <td>0.013996</td>\n",
              "      <td>-0.000289</td>\n",
              "      <td>0.006915</td>\n",
              "      <td>0.005992</td>\n",
              "      <td>-0.002489</td>\n",
              "      <td>NaN</td>\n",
              "      <td>1.000000</td>\n",
              "      <td>-0.007413</td>\n",
              "      <td>NaN</td>\n",
              "      <td>NaN</td>\n",
              "      <td>NaN</td>\n",
              "      <td>NaN</td>\n",
              "      <td>NaN</td>\n",
              "    </tr>\n",
              "    <tr>\n",
              "      <th>CANCELLED</th>\n",
              "      <td>NaN</td>\n",
              "      <td>NaN</td>\n",
              "      <td>-0.006000</td>\n",
              "      <td>-0.006409</td>\n",
              "      <td>0.090008</td>\n",
              "      <td>-0.002631</td>\n",
              "      <td>0.009679</td>\n",
              "      <td>0.030862</td>\n",
              "      <td>0.010763</td>\n",
              "      <td>0.001293</td>\n",
              "      <td>-0.074084</td>\n",
              "      <td>NaN</td>\n",
              "      <td>NaN</td>\n",
              "      <td>-0.076796</td>\n",
              "      <td>NaN</td>\n",
              "      <td>NaN</td>\n",
              "      <td>-0.013131</td>\n",
              "      <td>NaN</td>\n",
              "      <td>NaN</td>\n",
              "      <td>-0.007413</td>\n",
              "      <td>1.000000</td>\n",
              "      <td>NaN</td>\n",
              "      <td>NaN</td>\n",
              "      <td>NaN</td>\n",
              "      <td>NaN</td>\n",
              "      <td>NaN</td>\n",
              "    </tr>\n",
              "    <tr>\n",
              "      <th>AIR_SYSTEM_DELAY</th>\n",
              "      <td>NaN</td>\n",
              "      <td>NaN</td>\n",
              "      <td>0.097693</td>\n",
              "      <td>-0.019626</td>\n",
              "      <td>-0.032564</td>\n",
              "      <td>-0.112393</td>\n",
              "      <td>-0.093096</td>\n",
              "      <td>0.085794</td>\n",
              "      <td>0.407371</td>\n",
              "      <td>-0.085582</td>\n",
              "      <td>0.056865</td>\n",
              "      <td>0.190842</td>\n",
              "      <td>0.072436</td>\n",
              "      <td>0.041963</td>\n",
              "      <td>-0.049010</td>\n",
              "      <td>0.299436</td>\n",
              "      <td>-0.064453</td>\n",
              "      <td>-0.052236</td>\n",
              "      <td>0.259700</td>\n",
              "      <td>NaN</td>\n",
              "      <td>NaN</td>\n",
              "      <td>1.000000</td>\n",
              "      <td>-0.014622</td>\n",
              "      <td>-0.106087</td>\n",
              "      <td>-0.136411</td>\n",
              "      <td>0.019507</td>\n",
              "    </tr>\n",
              "    <tr>\n",
              "      <th>SECURITY_DELAY</th>\n",
              "      <td>NaN</td>\n",
              "      <td>NaN</td>\n",
              "      <td>-0.010550</td>\n",
              "      <td>0.008156</td>\n",
              "      <td>-0.007260</td>\n",
              "      <td>-0.017957</td>\n",
              "      <td>-0.012820</td>\n",
              "      <td>0.008040</td>\n",
              "      <td>-0.008021</td>\n",
              "      <td>-0.013912</td>\n",
              "      <td>0.009740</td>\n",
              "      <td>0.007724</td>\n",
              "      <td>0.010442</td>\n",
              "      <td>0.011547</td>\n",
              "      <td>-0.012903</td>\n",
              "      <td>-0.005075</td>\n",
              "      <td>-0.008270</td>\n",
              "      <td>-0.014825</td>\n",
              "      <td>0.006070</td>\n",
              "      <td>NaN</td>\n",
              "      <td>NaN</td>\n",
              "      <td>-0.014622</td>\n",
              "      <td>1.000000</td>\n",
              "      <td>-0.009884</td>\n",
              "      <td>-0.012136</td>\n",
              "      <td>0.000274</td>\n",
              "    </tr>\n",
              "    <tr>\n",
              "      <th>AIRLINE_DELAY</th>\n",
              "      <td>NaN</td>\n",
              "      <td>NaN</td>\n",
              "      <td>-0.001603</td>\n",
              "      <td>0.003648</td>\n",
              "      <td>0.023770</td>\n",
              "      <td>-0.054419</td>\n",
              "      <td>-0.013304</td>\n",
              "      <td>0.606954</td>\n",
              "      <td>-0.024674</td>\n",
              "      <td>-0.017376</td>\n",
              "      <td>0.032593</td>\n",
              "      <td>0.009438</td>\n",
              "      <td>0.022433</td>\n",
              "      <td>0.030500</td>\n",
              "      <td>-0.056574</td>\n",
              "      <td>-0.051595</td>\n",
              "      <td>-0.050435</td>\n",
              "      <td>-0.057557</td>\n",
              "      <td>0.592718</td>\n",
              "      <td>NaN</td>\n",
              "      <td>NaN</td>\n",
              "      <td>-0.106087</td>\n",
              "      <td>-0.009884</td>\n",
              "      <td>1.000000</td>\n",
              "      <td>-0.084750</td>\n",
              "      <td>-0.056336</td>\n",
              "    </tr>\n",
              "    <tr>\n",
              "      <th>LATE_AIRCRAFT_DELAY</th>\n",
              "      <td>NaN</td>\n",
              "      <td>NaN</td>\n",
              "      <td>0.033213</td>\n",
              "      <td>0.033729</td>\n",
              "      <td>0.076581</td>\n",
              "      <td>0.186286</td>\n",
              "      <td>0.247325</td>\n",
              "      <td>0.605289</td>\n",
              "      <td>-0.129879</td>\n",
              "      <td>0.223010</td>\n",
              "      <td>-0.084673</td>\n",
              "      <td>-0.118290</td>\n",
              "      <td>-0.096358</td>\n",
              "      <td>-0.086155</td>\n",
              "      <td>0.054199</td>\n",
              "      <td>-0.004698</td>\n",
              "      <td>0.146386</td>\n",
              "      <td>0.050115</td>\n",
              "      <td>0.572956</td>\n",
              "      <td>NaN</td>\n",
              "      <td>NaN</td>\n",
              "      <td>-0.136411</td>\n",
              "      <td>-0.012136</td>\n",
              "      <td>-0.084750</td>\n",
              "      <td>1.000000</td>\n",
              "      <td>-0.021674</td>\n",
              "    </tr>\n",
              "    <tr>\n",
              "      <th>WEATHER_DELAY</th>\n",
              "      <td>NaN</td>\n",
              "      <td>NaN</td>\n",
              "      <td>0.061960</td>\n",
              "      <td>-0.050835</td>\n",
              "      <td>0.004246</td>\n",
              "      <td>-0.042004</td>\n",
              "      <td>-0.046406</td>\n",
              "      <td>0.210402</td>\n",
              "      <td>0.119412</td>\n",
              "      <td>-0.055273</td>\n",
              "      <td>-0.001975</td>\n",
              "      <td>0.014470</td>\n",
              "      <td>-0.006582</td>\n",
              "      <td>-0.010430</td>\n",
              "      <td>-0.057202</td>\n",
              "      <td>-0.018058</td>\n",
              "      <td>-0.043930</td>\n",
              "      <td>-0.058355</td>\n",
              "      <td>0.235906</td>\n",
              "      <td>NaN</td>\n",
              "      <td>NaN</td>\n",
              "      <td>0.019507</td>\n",
              "      <td>0.000274</td>\n",
              "      <td>-0.056336</td>\n",
              "      <td>-0.021674</td>\n",
              "      <td>1.000000</td>\n",
              "    </tr>\n",
              "  </tbody>\n",
              "</table>\n",
              "</div>"
            ],
            "text/plain": [
              "                     YEAR  MONTH  ...  LATE_AIRCRAFT_DELAY  WEATHER_DELAY\n",
              "YEAR                  NaN    NaN  ...                  NaN            NaN\n",
              "MONTH                 NaN    NaN  ...                  NaN            NaN\n",
              "DAY                   NaN    NaN  ...             0.033213       0.061960\n",
              "DAY_OF_WEEK           NaN    NaN  ...             0.033729      -0.050835\n",
              "FLIGHT_NUMBER         NaN    NaN  ...             0.076581       0.004246\n",
              "SCHEDULED_DEPARTURE   NaN    NaN  ...             0.186286      -0.042004\n",
              "DEPARTURE_TIME        NaN    NaN  ...             0.247325      -0.046406\n",
              "DEPARTURE_DELAY       NaN    NaN  ...             0.605289       0.210402\n",
              "TAXI_OUT              NaN    NaN  ...            -0.129879       0.119412\n",
              "WHEELS_OFF            NaN    NaN  ...             0.223010      -0.055273\n",
              "SCHEDULED_TIME        NaN    NaN  ...            -0.084673      -0.001975\n",
              "ELAPSED_TIME          NaN    NaN  ...            -0.118290       0.014470\n",
              "AIR_TIME              NaN    NaN  ...            -0.096358      -0.006582\n",
              "DISTANCE              NaN    NaN  ...            -0.086155      -0.010430\n",
              "WHEELS_ON             NaN    NaN  ...             0.054199      -0.057202\n",
              "TAXI_IN               NaN    NaN  ...            -0.004698      -0.018058\n",
              "SCHEDULED_ARRIVAL     NaN    NaN  ...             0.146386      -0.043930\n",
              "ARRIVAL_TIME          NaN    NaN  ...             0.050115      -0.058355\n",
              "ARRIVAL_DELAY         NaN    NaN  ...             0.572956       0.235906\n",
              "DIVERTED              NaN    NaN  ...                  NaN            NaN\n",
              "CANCELLED             NaN    NaN  ...                  NaN            NaN\n",
              "AIR_SYSTEM_DELAY      NaN    NaN  ...            -0.136411       0.019507\n",
              "SECURITY_DELAY        NaN    NaN  ...            -0.012136       0.000274\n",
              "AIRLINE_DELAY         NaN    NaN  ...            -0.084750      -0.056336\n",
              "LATE_AIRCRAFT_DELAY   NaN    NaN  ...             1.000000      -0.021674\n",
              "WEATHER_DELAY         NaN    NaN  ...            -0.021674       1.000000\n",
              "\n",
              "[26 rows x 26 columns]"
            ]
          },
          "metadata": {
            "tags": []
          },
          "execution_count": 51
        }
      ]
    },
    {
      "cell_type": "code",
      "metadata": {
        "colab": {
          "base_uri": "https://localhost:8080/"
        },
        "id": "fqw5hAVIgipz",
        "outputId": "fe65df0b-2263-4ae1-cf50-d6c3b615c9b1"
      },
      "source": [
        "df[df.columns[1:]].corr()['ARRIVAL_DELAY'][:].sort_values(ascending=False)"
      ],
      "execution_count": null,
      "outputs": [
        {
          "output_type": "execute_result",
          "data": {
            "text/plain": [
              "ARRIVAL_DELAY          1.000000\n",
              "DEPARTURE_DELAY        0.950838\n",
              "AIRLINE_DELAY          0.592718\n",
              "LATE_AIRCRAFT_DELAY    0.572956\n",
              "AIR_SYSTEM_DELAY       0.259700\n",
              "TAXI_OUT               0.245363\n",
              "WEATHER_DELAY          0.235906\n",
              "DEPARTURE_TIME         0.223654\n",
              "WHEELS_OFF             0.217344\n",
              "TAXI_IN                0.170073\n",
              "SCHEDULED_DEPARTURE    0.154951\n",
              "SCHEDULED_ARRIVAL      0.140565\n",
              "WHEELS_ON              0.088131\n",
              "ARRIVAL_TIME           0.076791\n",
              "DAY                    0.070770\n",
              "DAY_OF_WEEK            0.067520\n",
              "FLIGHT_NUMBER          0.056163\n",
              "ELAPSED_TIME           0.048448\n",
              "SECURITY_DELAY         0.006070\n",
              "AIR_TIME              -0.002742\n",
              "SCHEDULED_TIME        -0.022043\n",
              "DISTANCE              -0.023821\n",
              "MONTH                       NaN\n",
              "DIVERTED                    NaN\n",
              "CANCELLED                   NaN\n",
              "Name: ARRIVAL_DELAY, dtype: float64"
            ]
          },
          "metadata": {
            "tags": []
          },
          "execution_count": 52
        }
      ]
    },
    {
      "cell_type": "code",
      "metadata": {
        "colab": {
          "base_uri": "https://localhost:8080/",
          "height": 458
        },
        "id": "7_XnNZPoiAdA",
        "outputId": "b8f3540e-7cae-437c-b8ad-f76b88764169"
      },
      "source": [
        "sns.jointplot(data=df, x=\"SCHEDULED_ARRIVAL\", y=\"ARRIVAL_TIME\")"
      ],
      "execution_count": null,
      "outputs": [
        {
          "output_type": "execute_result",
          "data": {
            "text/plain": [
              "<seaborn.axisgrid.JointGrid at 0x7f1478f21f98>"
            ]
          },
          "metadata": {
            "tags": []
          },
          "execution_count": 53
        },
        {
          "output_type": "display_data",
          "data": {
            "image/png": "[encoded data removed]",
            "text/plain": [
              "<Figure size 432x432 with 3 Axes>"
            ]
          },
          "metadata": {
            "tags": [],
            "needs_background": "light"
          }
        }
      ]
    },
    {
      "cell_type": "code",
      "metadata": {
        "id": "oVo2TvARiLhz"
      },
      "source": [
        "df=df.drop(['YEAR','FLIGHT_NUMBER','AIRLINE','DISTANCE','TAIL_NUMBER','TAXI_OUT', 'SCHEDULED_TIME','DEPARTURE_TIME','WHEELS_OFF','ELAPSED_TIME', 'AIR_TIME','WHEELS_ON','DAY_OF_WEEK','TAXI_IN','CANCELLATION_REASON'], axis=1)"
      ],
      "execution_count": null,
      "outputs": []
    },
    {
      "cell_type": "code",
      "metadata": {
        "colab": {
          "base_uri": "https://localhost:8080/"
        },
        "id": "FsOW9HzRibUM",
        "outputId": "7fc0c409-52d5-4747-a74c-1d1b4717ed2f"
      },
      "source": [
        "df.columns"
      ],
      "execution_count": null,
      "outputs": [
        {
          "output_type": "execute_result",
          "data": {
            "text/plain": [
              "Index(['MONTH', 'DAY', 'ORIGIN_AIRPORT', 'DESTINATION_AIRPORT',\n",
              "       'SCHEDULED_DEPARTURE', 'DEPARTURE_DELAY', 'SCHEDULED_ARRIVAL',\n",
              "       'ARRIVAL_TIME', 'ARRIVAL_DELAY', 'DIVERTED', 'CANCELLED',\n",
              "       'AIR_SYSTEM_DELAY', 'SECURITY_DELAY', 'AIRLINE_DELAY',\n",
              "       'LATE_AIRCRAFT_DELAY', 'WEATHER_DELAY'],\n",
              "      dtype='object')"
            ]
          },
          "metadata": {
            "tags": []
          },
          "execution_count": 55
        }
      ]
    },
    {
      "cell_type": "code",
      "metadata": {
        "colab": {
          "base_uri": "https://localhost:8080/"
        },
        "id": "3BrKq5G4ieD5",
        "outputId": "912389a3-4e81-4590-bbb1-bce9870ffbbb"
      },
      "source": [
        "df['ARRIVAL_DELAY'].head(5)"
      ],
      "execution_count": null,
      "outputs": [
        {
          "output_type": "execute_result",
          "data": {
            "text/plain": [
              "0   -22.0\n",
              "1    -9.0\n",
              "2     5.0\n",
              "3    -9.0\n",
              "4   -21.0\n",
              "Name: ARRIVAL_DELAY, dtype: float64"
            ]
          },
          "metadata": {
            "tags": []
          },
          "execution_count": 56
        }
      ]
    },
    {
      "cell_type": "code",
      "metadata": {
        "colab": {
          "base_uri": "https://localhost:8080/"
        },
        "id": "lNLxLKr3ihDx",
        "outputId": "b07378f4-751b-448a-ad3b-9a245c046e54"
      },
      "source": [
        "df.info()"
      ],
      "execution_count": null,
      "outputs": [
        {
          "output_type": "stream",
          "text": [
            "<class 'pandas.core.frame.DataFrame'>\n",
            "RangeIndex: 100000 entries, 0 to 99999\n",
            "Data columns (total 16 columns):\n",
            " #   Column               Non-Null Count   Dtype  \n",
            "---  ------               --------------   -----  \n",
            " 0   MONTH                100000 non-null  int64  \n",
            " 1   DAY                  100000 non-null  int64  \n",
            " 2   ORIGIN_AIRPORT       100000 non-null  object \n",
            " 3   DESTINATION_AIRPORT  100000 non-null  object \n",
            " 4   SCHEDULED_DEPARTURE  100000 non-null  int64  \n",
            " 5   DEPARTURE_DELAY      97702 non-null   float64\n",
            " 6   SCHEDULED_ARRIVAL    100000 non-null  int64  \n",
            " 7   ARRIVAL_TIME         97560 non-null   float64\n",
            " 8   ARRIVAL_DELAY        97387 non-null   float64\n",
            " 9   DIVERTED             100000 non-null  int64  \n",
            " 10  CANCELLED            100000 non-null  int64  \n",
            " 11  AIR_SYSTEM_DELAY     34625 non-null   float64\n",
            " 12  SECURITY_DELAY       34625 non-null   float64\n",
            " 13  AIRLINE_DELAY        34625 non-null   float64\n",
            " 14  LATE_AIRCRAFT_DELAY  34625 non-null   float64\n",
            " 15  WEATHER_DELAY        34625 non-null   float64\n",
            "dtypes: float64(8), int64(6), object(2)\n",
            "memory usage: 12.2+ MB\n"
          ],
          "name": "stdout"
        }
      ]
    },
    {
      "cell_type": "code",
      "metadata": {
        "id": "cXSX7_45il1D"
      },
      "source": [
        "from sklearn.preprocessing import LabelEncoder\r\n",
        "le = LabelEncoder()\r\n",
        "cat_types = [\r\n",
        "    'ORIGIN_AIRPORT','DESTINATION_AIRPORT'\r\n",
        "]\r\n",
        "df[cat_types] = df[cat_types].apply(lambda col: le.fit_transform(col))\r\n"
      ],
      "execution_count": null,
      "outputs": []
    },
    {
      "cell_type": "code",
      "metadata": {
        "colab": {
          "base_uri": "https://localhost:8080/"
        },
        "id": "23joaY64l4Jy",
        "outputId": "25ed4af3-3803-44e0-b573-2e7534df8609"
      },
      "source": [
        "df.info()"
      ],
      "execution_count": null,
      "outputs": [
        {
          "output_type": "stream",
          "text": [
            "<class 'pandas.core.frame.DataFrame'>\n",
            "RangeIndex: 100000 entries, 0 to 99999\n",
            "Data columns (total 16 columns):\n",
            " #   Column               Non-Null Count   Dtype  \n",
            "---  ------               --------------   -----  \n",
            " 0   MONTH                100000 non-null  int64  \n",
            " 1   DAY                  100000 non-null  int64  \n",
            " 2   ORIGIN_AIRPORT       100000 non-null  int64  \n",
            " 3   DESTINATION_AIRPORT  100000 non-null  int64  \n",
            " 4   SCHEDULED_DEPARTURE  100000 non-null  int64  \n",
            " 5   DEPARTURE_DELAY      97702 non-null   float64\n",
            " 6   SCHEDULED_ARRIVAL    100000 non-null  int64  \n",
            " 7   ARRIVAL_TIME         97560 non-null   float64\n",
            " 8   ARRIVAL_DELAY        97387 non-null   float64\n",
            " 9   DIVERTED             100000 non-null  int64  \n",
            " 10  CANCELLED            100000 non-null  int64  \n",
            " 11  AIR_SYSTEM_DELAY     34625 non-null   float64\n",
            " 12  SECURITY_DELAY       34625 non-null   float64\n",
            " 13  AIRLINE_DELAY        34625 non-null   float64\n",
            " 14  LATE_AIRCRAFT_DELAY  34625 non-null   float64\n",
            " 15  WEATHER_DELAY        34625 non-null   float64\n",
            "dtypes: float64(8), int64(8)\n",
            "memory usage: 12.2 MB\n"
          ],
          "name": "stdout"
        }
      ]
    },
    {
      "cell_type": "code",
      "metadata": {
        "colab": {
          "base_uri": "https://localhost:8080/"
        },
        "id": "UIQ5nHXBl8q-",
        "outputId": "707fda94-6dd8-4175-a4ea-2ca8f1507455"
      },
      "source": [
        "df.isna().sum()"
      ],
      "execution_count": null,
      "outputs": [
        {
          "output_type": "execute_result",
          "data": {
            "text/plain": [
              "MONTH                      0\n",
              "DAY                        0\n",
              "ORIGIN_AIRPORT             0\n",
              "DESTINATION_AIRPORT        0\n",
              "SCHEDULED_DEPARTURE        0\n",
              "DEPARTURE_DELAY         2298\n",
              "SCHEDULED_ARRIVAL          0\n",
              "ARRIVAL_TIME            2440\n",
              "ARRIVAL_DELAY           2613\n",
              "DIVERTED                   0\n",
              "CANCELLED                  0\n",
              "AIR_SYSTEM_DELAY       65375\n",
              "SECURITY_DELAY         65375\n",
              "AIRLINE_DELAY          65375\n",
              "LATE_AIRCRAFT_DELAY    65375\n",
              "WEATHER_DELAY          65375\n",
              "dtype: int64"
            ]
          },
          "metadata": {
            "tags": []
          },
          "execution_count": 60
        }
      ]
    },
    {
      "cell_type": "code",
      "metadata": {
        "id": "iMiJW0BhmKf5"
      },
      "source": [
        "df = df.fillna(df.mean())"
      ],
      "execution_count": null,
      "outputs": []
    },
    {
      "cell_type": "code",
      "metadata": {
        "colab": {
          "base_uri": "https://localhost:8080/"
        },
        "id": "z91B8LssmWOr",
        "outputId": "7163975c-d1d0-4ff3-96e6-009d4d16bd42"
      },
      "source": [
        "df.info()"
      ],
      "execution_count": null,
      "outputs": [
        {
          "output_type": "stream",
          "text": [
            "<class 'pandas.core.frame.DataFrame'>\n",
            "RangeIndex: 100000 entries, 0 to 99999\n",
            "Data columns (total 16 columns):\n",
            " #   Column               Non-Null Count   Dtype  \n",
            "---  ------               --------------   -----  \n",
            " 0   MONTH                100000 non-null  int64  \n",
            " 1   DAY                  100000 non-null  int64  \n",
            " 2   ORIGIN_AIRPORT       100000 non-null  int64  \n",
            " 3   DESTINATION_AIRPORT  100000 non-null  int64  \n",
            " 4   SCHEDULED_DEPARTURE  100000 non-null  int64  \n",
            " 5   DEPARTURE_DELAY      100000 non-null  float64\n",
            " 6   SCHEDULED_ARRIVAL    100000 non-null  int64  \n",
            " 7   ARRIVAL_TIME         100000 non-null  float64\n",
            " 8   ARRIVAL_DELAY        100000 non-null  float64\n",
            " 9   DIVERTED             100000 non-null  int64  \n",
            " 10  CANCELLED            100000 non-null  int64  \n",
            " 11  AIR_SYSTEM_DELAY     100000 non-null  float64\n",
            " 12  SECURITY_DELAY       100000 non-null  float64\n",
            " 13  AIRLINE_DELAY        100000 non-null  float64\n",
            " 14  LATE_AIRCRAFT_DELAY  100000 non-null  float64\n",
            " 15  WEATHER_DELAY        100000 non-null  float64\n",
            "dtypes: float64(8), int64(8)\n",
            "memory usage: 12.2 MB\n"
          ],
          "name": "stdout"
        }
      ]
    },
    {
      "cell_type": "code",
      "metadata": {
        "colab": {
          "base_uri": "https://localhost:8080/",
          "height": 304
        },
        "id": "jBQHdsFemX0f",
        "outputId": "fb9b162c-0379-4540-d0a3-3ee79ef0216a"
      },
      "source": [
        "df.describe()"
      ],
      "execution_count": null,
      "outputs": [
        {
          "output_type": "execute_result",
          "data": {
            "text/html": [
              "<div>\n",
              "<style scoped>\n",
              "    .dataframe tbody tr th:only-of-type {\n",
              "        vertical-align: middle;\n",
              "    }\n",
              "\n",
              "    .dataframe tbody tr th {\n",
              "        vertical-align: top;\n",
              "    }\n",
              "\n",
              "    .dataframe thead th {\n",
              "        text-align: right;\n",
              "    }\n",
              "</style>\n",
              "<table border=\"1\" class=\"dataframe\">\n",
              "  <thead>\n",
              "    <tr style=\"text-align: right;\">\n",
              "      <th></th>\n",
              "      <th>MONTH</th>\n",
              "      <th>DAY</th>\n",
              "      <th>ORIGIN_AIRPORT</th>\n",
              "      <th>DESTINATION_AIRPORT</th>\n",
              "      <th>SCHEDULED_DEPARTURE</th>\n",
              "      <th>DEPARTURE_DELAY</th>\n",
              "      <th>SCHEDULED_ARRIVAL</th>\n",
              "      <th>ARRIVAL_TIME</th>\n",
              "      <th>ARRIVAL_DELAY</th>\n",
              "      <th>DIVERTED</th>\n",
              "      <th>CANCELLED</th>\n",
              "      <th>AIR_SYSTEM_DELAY</th>\n",
              "      <th>SECURITY_DELAY</th>\n",
              "      <th>AIRLINE_DELAY</th>\n",
              "      <th>LATE_AIRCRAFT_DELAY</th>\n",
              "      <th>WEATHER_DELAY</th>\n",
              "    </tr>\n",
              "  </thead>\n",
              "  <tbody>\n",
              "    <tr>\n",
              "      <th>count</th>\n",
              "      <td>100000.0</td>\n",
              "      <td>100000.000000</td>\n",
              "      <td>100000.000000</td>\n",
              "      <td>100000.000000</td>\n",
              "      <td>100000.000000</td>\n",
              "      <td>100000.000000</td>\n",
              "      <td>100000.000000</td>\n",
              "      <td>100000.00000</td>\n",
              "      <td>100000.000000</td>\n",
              "      <td>100000.000000</td>\n",
              "      <td>100000.000000</td>\n",
              "      <td>100000.000000</td>\n",
              "      <td>100000.000000</td>\n",
              "      <td>100000.000000</td>\n",
              "      <td>100000.000000</td>\n",
              "      <td>100000.000000</td>\n",
              "    </tr>\n",
              "    <tr>\n",
              "      <th>mean</th>\n",
              "      <td>1.0</td>\n",
              "      <td>3.733920</td>\n",
              "      <td>154.846290</td>\n",
              "      <td>154.624480</td>\n",
              "      <td>1306.348280</td>\n",
              "      <td>19.937749</td>\n",
              "      <td>1481.115620</td>\n",
              "      <td>1458.02992</td>\n",
              "      <td>18.342304</td>\n",
              "      <td>0.002240</td>\n",
              "      <td>0.023890</td>\n",
              "      <td>14.026801</td>\n",
              "      <td>0.070787</td>\n",
              "      <td>17.853921</td>\n",
              "      <td>26.014556</td>\n",
              "      <td>2.751971</td>\n",
              "    </tr>\n",
              "    <tr>\n",
              "      <th>std</th>\n",
              "      <td>0.0</td>\n",
              "      <td>1.815542</td>\n",
              "      <td>84.577924</td>\n",
              "      <td>84.484687</td>\n",
              "      <td>482.325506</td>\n",
              "      <td>45.313768</td>\n",
              "      <td>498.916358</td>\n",
              "      <td>531.60497</td>\n",
              "      <td>48.235406</td>\n",
              "      <td>0.047276</td>\n",
              "      <td>0.152707</td>\n",
              "      <td>15.278682</td>\n",
              "      <td>0.995924</td>\n",
              "      <td>25.612673</td>\n",
              "      <td>25.062969</td>\n",
              "      <td>10.159597</td>\n",
              "    </tr>\n",
              "    <tr>\n",
              "      <th>min</th>\n",
              "      <td>1.0</td>\n",
              "      <td>1.000000</td>\n",
              "      <td>0.000000</td>\n",
              "      <td>0.000000</td>\n",
              "      <td>5.000000</td>\n",
              "      <td>-39.000000</td>\n",
              "      <td>1.000000</td>\n",
              "      <td>1.00000</td>\n",
              "      <td>-65.000000</td>\n",
              "      <td>0.000000</td>\n",
              "      <td>0.000000</td>\n",
              "      <td>0.000000</td>\n",
              "      <td>0.000000</td>\n",
              "      <td>0.000000</td>\n",
              "      <td>0.000000</td>\n",
              "      <td>0.000000</td>\n",
              "    </tr>\n",
              "    <tr>\n",
              "      <th>25%</th>\n",
              "      <td>1.0</td>\n",
              "      <td>2.000000</td>\n",
              "      <td>81.000000</td>\n",
              "      <td>81.000000</td>\n",
              "      <td>904.000000</td>\n",
              "      <td>-3.000000</td>\n",
              "      <td>1100.000000</td>\n",
              "      <td>1056.00000</td>\n",
              "      <td>-8.000000</td>\n",
              "      <td>0.000000</td>\n",
              "      <td>0.000000</td>\n",
              "      <td>14.026801</td>\n",
              "      <td>0.000000</td>\n",
              "      <td>17.000000</td>\n",
              "      <td>26.014556</td>\n",
              "      <td>0.000000</td>\n",
              "    </tr>\n",
              "    <tr>\n",
              "      <th>50%</th>\n",
              "      <td>1.0</td>\n",
              "      <td>4.000000</td>\n",
              "      <td>166.000000</td>\n",
              "      <td>166.000000</td>\n",
              "      <td>1300.000000</td>\n",
              "      <td>3.000000</td>\n",
              "      <td>1500.000000</td>\n",
              "      <td>1458.02992</td>\n",
              "      <td>5.000000</td>\n",
              "      <td>0.000000</td>\n",
              "      <td>0.000000</td>\n",
              "      <td>14.026801</td>\n",
              "      <td>0.070787</td>\n",
              "      <td>17.853921</td>\n",
              "      <td>26.014556</td>\n",
              "      <td>2.751971</td>\n",
              "    </tr>\n",
              "    <tr>\n",
              "      <th>75%</th>\n",
              "      <td>1.0</td>\n",
              "      <td>5.000000</td>\n",
              "      <td>220.000000</td>\n",
              "      <td>219.000000</td>\n",
              "      <td>1720.000000</td>\n",
              "      <td>24.000000</td>\n",
              "      <td>1908.000000</td>\n",
              "      <td>1905.00000</td>\n",
              "      <td>26.000000</td>\n",
              "      <td>0.000000</td>\n",
              "      <td>0.000000</td>\n",
              "      <td>14.026801</td>\n",
              "      <td>0.070787</td>\n",
              "      <td>17.853921</td>\n",
              "      <td>26.014556</td>\n",
              "      <td>2.751971</td>\n",
              "    </tr>\n",
              "    <tr>\n",
              "      <th>max</th>\n",
              "      <td>1.0</td>\n",
              "      <td>7.000000</td>\n",
              "      <td>311.000000</td>\n",
              "      <td>311.000000</td>\n",
              "      <td>2359.000000</td>\n",
              "      <td>1380.000000</td>\n",
              "      <td>2359.000000</td>\n",
              "      <td>2400.00000</td>\n",
              "      <td>1384.000000</td>\n",
              "      <td>1.000000</td>\n",
              "      <td>1.000000</td>\n",
              "      <td>590.000000</td>\n",
              "      <td>107.000000</td>\n",
              "      <td>1380.000000</td>\n",
              "      <td>891.000000</td>\n",
              "      <td>562.000000</td>\n",
              "    </tr>\n",
              "  </tbody>\n",
              "</table>\n",
              "</div>"
            ],
            "text/plain": [
              "          MONTH            DAY  ...  LATE_AIRCRAFT_DELAY  WEATHER_DELAY\n",
              "count  100000.0  100000.000000  ...        100000.000000  100000.000000\n",
              "mean        1.0       3.733920  ...            26.014556       2.751971\n",
              "std         0.0       1.815542  ...            25.062969      10.159597\n",
              "min         1.0       1.000000  ...             0.000000       0.000000\n",
              "25%         1.0       2.000000  ...            26.014556       0.000000\n",
              "50%         1.0       4.000000  ...            26.014556       2.751971\n",
              "75%         1.0       5.000000  ...            26.014556       2.751971\n",
              "max         1.0       7.000000  ...           891.000000     562.000000\n",
              "\n",
              "[8 rows x 16 columns]"
            ]
          },
          "metadata": {
            "tags": []
          },
          "execution_count": 63
        }
      ]
    },
    {
      "cell_type": "code",
      "metadata": {
        "colab": {
          "base_uri": "https://localhost:8080/"
        },
        "id": "9PJBhebgmcZc",
        "outputId": "68294aea-26fa-4047-90a5-115a42083f2c"
      },
      "source": [
        "df['ARRIVAL_DELAY'].head(5)"
      ],
      "execution_count": null,
      "outputs": [
        {
          "output_type": "execute_result",
          "data": {
            "text/plain": [
              "0   -22.0\n",
              "1    -9.0\n",
              "2     5.0\n",
              "3    -9.0\n",
              "4   -21.0\n",
              "Name: ARRIVAL_DELAY, dtype: float64"
            ]
          },
          "metadata": {
            "tags": []
          },
          "execution_count": 64
        }
      ]
    },
    {
      "cell_type": "code",
      "metadata": {
        "colab": {
          "base_uri": "https://localhost:8080/",
          "height": 706
        },
        "id": "MM4e6s_joMBG",
        "outputId": "f93c3675-1ea8-4c8d-ceec-f6273c5f8142"
      },
      "source": [
        "import matplotlib.pyplot as plt\r\n",
        "fig, ax = plt.subplots( figsize= (12, 12))\r\n",
        "sns.heatmap(df.corr(), annot=True, ax = ax )"
      ],
      "execution_count": null,
      "outputs": [
        {
          "output_type": "execute_result",
          "data": {
            "text/plain": [
              "<matplotlib.axes._subplots.AxesSubplot at 0x7f1471256588>"
            ]
          },
          "metadata": {
            "tags": []
          },
          "execution_count": 65
        },
        {
          "output_type": "display_data",
          "data": {
            "image/png": "[encoded data removed]",
            "text/plain": [
              "<Figure size 864x864 with 2 Axes>"
            ]
          },
          "metadata": {
            "tags": [],
            "needs_background": "light"
          }
        }
      ]
    },
    {
      "cell_type": "code",
      "metadata": {
        "id": "nH611B1mprfj"
      },
      "source": [
        " store = pd.to_numeric(df['ARRIVAL_DELAY'])"
      ],
      "execution_count": null,
      "outputs": []
    },
    {
      "cell_type": "code",
      "metadata": {
        "id": "On--bm9ur1JU"
      },
      "source": [
        "result = []\r\n",
        "for row in store: \r\n",
        "  if row > 15: \r\n",
        "    result.append( 1)\r\n",
        "  else: \r\n",
        "    result.append(0)"
      ],
      "execution_count": null,
      "outputs": []
    },
    {
      "cell_type": "code",
      "metadata": {
        "id": "NExTWpqysI1A"
      },
      "source": [
        "df['result'] = result"
      ],
      "execution_count": null,
      "outputs": []
    },
    {
      "cell_type": "code",
      "metadata": {
        "colab": {
          "base_uri": "https://localhost:8080/"
        },
        "id": "WAfkPWrEvLva",
        "outputId": "ec277b0a-610a-48a9-ecdc-b16aba2acb6d"
      },
      "source": [
        "df['result'].head()"
      ],
      "execution_count": null,
      "outputs": [
        {
          "output_type": "execute_result",
          "data": {
            "text/plain": [
              "0    0\n",
              "1    0\n",
              "2    0\n",
              "3    0\n",
              "4    0\n",
              "Name: result, dtype: int64"
            ]
          },
          "metadata": {
            "tags": []
          },
          "execution_count": 72
        }
      ]
    },
    {
      "cell_type": "code",
      "metadata": {
        "id": "-l9lKT1cse9p",
        "colab": {
          "base_uri": "https://localhost:8080/"
        },
        "outputId": "a061cbbf-f4f1-4af9-b47f-0082f694cbb3"
      },
      "source": [
        "df.info()"
      ],
      "execution_count": null,
      "outputs": [
        {
          "output_type": "stream",
          "text": [
            "<class 'pandas.core.frame.DataFrame'>\n",
            "RangeIndex: 100000 entries, 0 to 99999\n",
            "Data columns (total 17 columns):\n",
            " #   Column               Non-Null Count   Dtype  \n",
            "---  ------               --------------   -----  \n",
            " 0   MONTH                100000 non-null  int64  \n",
            " 1   DAY                  100000 non-null  int64  \n",
            " 2   ORIGIN_AIRPORT       100000 non-null  int64  \n",
            " 3   DESTINATION_AIRPORT  100000 non-null  int64  \n",
            " 4   SCHEDULED_DEPARTURE  100000 non-null  int64  \n",
            " 5   DEPARTURE_DELAY      100000 non-null  float64\n",
            " 6   SCHEDULED_ARRIVAL    100000 non-null  int64  \n",
            " 7   ARRIVAL_TIME         100000 non-null  float64\n",
            " 8   ARRIVAL_DELAY        100000 non-null  float64\n",
            " 9   DIVERTED             100000 non-null  int64  \n",
            " 10  CANCELLED            100000 non-null  int64  \n",
            " 11  AIR_SYSTEM_DELAY     100000 non-null  float64\n",
            " 12  SECURITY_DELAY       100000 non-null  float64\n",
            " 13  AIRLINE_DELAY        100000 non-null  float64\n",
            " 14  LATE_AIRCRAFT_DELAY  100000 non-null  float64\n",
            " 15  WEATHER_DELAY        100000 non-null  float64\n",
            " 16  result               100000 non-null  int64  \n",
            "dtypes: float64(8), int64(9)\n",
            "memory usage: 13.0 MB\n"
          ],
          "name": "stdout"
        }
      ]
    },
    {
      "cell_type": "markdown",
      "metadata": {
        "id": "ItSTcLZ9sCHr"
      },
      "source": [
        "**Selecting these Columns For model building.**\r\n",
        "\r\n",
        "-->'MONTH', 'DAY', 'SCHEDULED_DEPARTURE', 'DEPARTURE_DELAY', 'SCHEDULED_ARRIVAL', 'DIVERTED', 'CANCELLED', 'AIR_SYSTEM_DELAY','SECURITY_DELAY', 'AIRLINE_DELAY', 'LATE_AIRCRAFT_DELAY','WEATHER_DELAY', 'result'"
      ]
    },
    {
      "cell_type": "code",
      "metadata": {
        "id": "T3fegNE_sf7e",
        "colab": {
          "base_uri": "https://localhost:8080/",
          "height": 422
        },
        "outputId": "37935d83-a66e-418c-817a-eecf0bc9f75f"
      },
      "source": [
        "df=df.drop(['ORIGIN_AIRPORT', 'DESTINATION_AIRPORT', 'ARRIVAL_TIME', 'ARRIVAL_DELAY'],axis=1)\r\n",
        "df"
      ],
      "execution_count": null,
      "outputs": [
        {
          "output_type": "execute_result",
          "data": {
            "text/html": [
              "<div>\n",
              "<style scoped>\n",
              "    .dataframe tbody tr th:only-of-type {\n",
              "        vertical-align: middle;\n",
              "    }\n",
              "\n",
              "    .dataframe tbody tr th {\n",
              "        vertical-align: top;\n",
              "    }\n",
              "\n",
              "    .dataframe thead th {\n",
              "        text-align: right;\n",
              "    }\n",
              "</style>\n",
              "<table border=\"1\" class=\"dataframe\">\n",
              "  <thead>\n",
              "    <tr style=\"text-align: right;\">\n",
              "      <th></th>\n",
              "      <th>MONTH</th>\n",
              "      <th>DAY</th>\n",
              "      <th>SCHEDULED_DEPARTURE</th>\n",
              "      <th>DEPARTURE_DELAY</th>\n",
              "      <th>SCHEDULED_ARRIVAL</th>\n",
              "      <th>DIVERTED</th>\n",
              "      <th>CANCELLED</th>\n",
              "      <th>AIR_SYSTEM_DELAY</th>\n",
              "      <th>SECURITY_DELAY</th>\n",
              "      <th>AIRLINE_DELAY</th>\n",
              "      <th>LATE_AIRCRAFT_DELAY</th>\n",
              "      <th>WEATHER_DELAY</th>\n",
              "      <th>result</th>\n",
              "    </tr>\n",
              "  </thead>\n",
              "  <tbody>\n",
              "    <tr>\n",
              "      <th>0</th>\n",
              "      <td>1</td>\n",
              "      <td>1</td>\n",
              "      <td>5</td>\n",
              "      <td>-11.0</td>\n",
              "      <td>430</td>\n",
              "      <td>0</td>\n",
              "      <td>0</td>\n",
              "      <td>14.026801</td>\n",
              "      <td>0.070787</td>\n",
              "      <td>17.853921</td>\n",
              "      <td>26.014556</td>\n",
              "      <td>2.751971</td>\n",
              "      <td>0</td>\n",
              "    </tr>\n",
              "    <tr>\n",
              "      <th>1</th>\n",
              "      <td>1</td>\n",
              "      <td>1</td>\n",
              "      <td>10</td>\n",
              "      <td>-8.0</td>\n",
              "      <td>750</td>\n",
              "      <td>0</td>\n",
              "      <td>0</td>\n",
              "      <td>14.026801</td>\n",
              "      <td>0.070787</td>\n",
              "      <td>17.853921</td>\n",
              "      <td>26.014556</td>\n",
              "      <td>2.751971</td>\n",
              "      <td>0</td>\n",
              "    </tr>\n",
              "    <tr>\n",
              "      <th>2</th>\n",
              "      <td>1</td>\n",
              "      <td>1</td>\n",
              "      <td>20</td>\n",
              "      <td>-2.0</td>\n",
              "      <td>806</td>\n",
              "      <td>0</td>\n",
              "      <td>0</td>\n",
              "      <td>14.026801</td>\n",
              "      <td>0.070787</td>\n",
              "      <td>17.853921</td>\n",
              "      <td>26.014556</td>\n",
              "      <td>2.751971</td>\n",
              "      <td>0</td>\n",
              "    </tr>\n",
              "    <tr>\n",
              "      <th>3</th>\n",
              "      <td>1</td>\n",
              "      <td>1</td>\n",
              "      <td>20</td>\n",
              "      <td>-5.0</td>\n",
              "      <td>805</td>\n",
              "      <td>0</td>\n",
              "      <td>0</td>\n",
              "      <td>14.026801</td>\n",
              "      <td>0.070787</td>\n",
              "      <td>17.853921</td>\n",
              "      <td>26.014556</td>\n",
              "      <td>2.751971</td>\n",
              "      <td>0</td>\n",
              "    </tr>\n",
              "    <tr>\n",
              "      <th>4</th>\n",
              "      <td>1</td>\n",
              "      <td>1</td>\n",
              "      <td>25</td>\n",
              "      <td>-1.0</td>\n",
              "      <td>320</td>\n",
              "      <td>0</td>\n",
              "      <td>0</td>\n",
              "      <td>14.026801</td>\n",
              "      <td>0.070787</td>\n",
              "      <td>17.853921</td>\n",
              "      <td>26.014556</td>\n",
              "      <td>2.751971</td>\n",
              "      <td>0</td>\n",
              "    </tr>\n",
              "    <tr>\n",
              "      <th>...</th>\n",
              "      <td>...</td>\n",
              "      <td>...</td>\n",
              "      <td>...</td>\n",
              "      <td>...</td>\n",
              "      <td>...</td>\n",
              "      <td>...</td>\n",
              "      <td>...</td>\n",
              "      <td>...</td>\n",
              "      <td>...</td>\n",
              "      <td>...</td>\n",
              "      <td>...</td>\n",
              "      <td>...</td>\n",
              "      <td>...</td>\n",
              "    </tr>\n",
              "    <tr>\n",
              "      <th>99995</th>\n",
              "      <td>1</td>\n",
              "      <td>7</td>\n",
              "      <td>1108</td>\n",
              "      <td>-6.0</td>\n",
              "      <td>1219</td>\n",
              "      <td>0</td>\n",
              "      <td>0</td>\n",
              "      <td>14.026801</td>\n",
              "      <td>0.070787</td>\n",
              "      <td>17.853921</td>\n",
              "      <td>26.014556</td>\n",
              "      <td>2.751971</td>\n",
              "      <td>0</td>\n",
              "    </tr>\n",
              "    <tr>\n",
              "      <th>99996</th>\n",
              "      <td>1</td>\n",
              "      <td>7</td>\n",
              "      <td>1108</td>\n",
              "      <td>9.0</td>\n",
              "      <td>1842</td>\n",
              "      <td>0</td>\n",
              "      <td>0</td>\n",
              "      <td>14.026801</td>\n",
              "      <td>0.070787</td>\n",
              "      <td>17.853921</td>\n",
              "      <td>26.014556</td>\n",
              "      <td>2.751971</td>\n",
              "      <td>0</td>\n",
              "    </tr>\n",
              "    <tr>\n",
              "      <th>99997</th>\n",
              "      <td>1</td>\n",
              "      <td>7</td>\n",
              "      <td>1108</td>\n",
              "      <td>-7.0</td>\n",
              "      <td>1225</td>\n",
              "      <td>0</td>\n",
              "      <td>0</td>\n",
              "      <td>14.026801</td>\n",
              "      <td>0.070787</td>\n",
              "      <td>17.853921</td>\n",
              "      <td>26.014556</td>\n",
              "      <td>2.751971</td>\n",
              "      <td>0</td>\n",
              "    </tr>\n",
              "    <tr>\n",
              "      <th>99998</th>\n",
              "      <td>1</td>\n",
              "      <td>7</td>\n",
              "      <td>1109</td>\n",
              "      <td>7.0</td>\n",
              "      <td>1454</td>\n",
              "      <td>0</td>\n",
              "      <td>0</td>\n",
              "      <td>14.026801</td>\n",
              "      <td>0.070787</td>\n",
              "      <td>17.853921</td>\n",
              "      <td>26.014556</td>\n",
              "      <td>2.751971</td>\n",
              "      <td>0</td>\n",
              "    </tr>\n",
              "    <tr>\n",
              "      <th>99999</th>\n",
              "      <td>1</td>\n",
              "      <td>7</td>\n",
              "      <td>1109</td>\n",
              "      <td>-9.0</td>\n",
              "      <td>1220</td>\n",
              "      <td>0</td>\n",
              "      <td>0</td>\n",
              "      <td>14.026801</td>\n",
              "      <td>0.070787</td>\n",
              "      <td>17.853921</td>\n",
              "      <td>26.014556</td>\n",
              "      <td>2.751971</td>\n",
              "      <td>0</td>\n",
              "    </tr>\n",
              "  </tbody>\n",
              "</table>\n",
              "<p>100000 rows × 13 columns</p>\n",
              "</div>"
            ],
            "text/plain": [
              "       MONTH  DAY  ...  WEATHER_DELAY  result\n",
              "0          1    1  ...       2.751971       0\n",
              "1          1    1  ...       2.751971       0\n",
              "2          1    1  ...       2.751971       0\n",
              "3          1    1  ...       2.751971       0\n",
              "4          1    1  ...       2.751971       0\n",
              "...      ...  ...  ...            ...     ...\n",
              "99995      1    7  ...       2.751971       0\n",
              "99996      1    7  ...       2.751971       0\n",
              "99997      1    7  ...       2.751971       0\n",
              "99998      1    7  ...       2.751971       0\n",
              "99999      1    7  ...       2.751971       0\n",
              "\n",
              "[100000 rows x 13 columns]"
            ]
          },
          "metadata": {
            "tags": []
          },
          "execution_count": 74
        }
      ]
    },
    {
      "cell_type": "markdown",
      "metadata": {
        "id": "8o4P7-buvx5a"
      },
      "source": [
        "**TRAIN-TEST SPLIT**\r\n",
        "\r\n",
        "Spliting the data into train and test in 70:30 respectively with Random Seet 42"
      ]
    },
    {
      "cell_type": "code",
      "metadata": {
        "id": "gP3CL_nHt5bw"
      },
      "source": [
        "x , y = df[:,:-1] , df[:,-1]\r\n",
        "x_train , x_test , y_train , y_test = train_test_split(x,y,test_size=0.30,random_state=42)"
      ],
      "execution_count": null,
      "outputs": []
    },
    {
      "cell_type": "markdown",
      "metadata": {
        "id": "7FsvgTBHyOVq"
      },
      "source": [
        "Using Standard Scalar Standardize the data such that It transforms the data in such a manner that it has mean as 0 and standard deviation as 1"
      ]
    },
    {
      "cell_type": "code",
      "metadata": {
        "id": "Gu7xsZ_5xrB5"
      },
      "source": [
        "scaledFeatures = StandardScaler ().fit_transform(x_train,x_test)"
      ],
      "execution_count": null,
      "outputs": []
    },
    {
      "cell_type": "markdown",
      "metadata": {
        "id": "IQwzx7HNy8l6"
      },
      "source": [
        "**MODEL BUILDING**\r\n",
        "\r\n",
        "Using DecisionTreeClasifier"
      ]
    },
    {
      "cell_type": "code",
      "metadata": {
        "id": "SVLfv6Vyy49f"
      },
      "source": [
        "clf=DecisionTreeClassifier()\r\n",
        "clf = clf.fit(x_train,y_train)"
      ],
      "execution_count": null,
      "outputs": []
    },
    {
      "cell_type": "code",
      "metadata": {
        "colab": {
          "base_uri": "https://localhost:8080/"
        },
        "id": "6003EHodzr5w",
        "outputId": "723c4604-390e-47ec-81c0-9cff3e6aadcc"
      },
      "source": [
        "predict=clf.predict_proba(x_test)\r\n",
        "predict"
      ],
      "execution_count": null,
      "outputs": [
        {
          "output_type": "execute_result",
          "data": {
            "text/plain": [
              "array([[0., 1.],\n",
              "       [1., 0.],\n",
              "       [1., 0.],\n",
              "       ...,\n",
              "       [1., 0.],\n",
              "       [1., 0.],\n",
              "       [0., 1.]])"
            ]
          },
          "metadata": {
            "tags": []
          },
          "execution_count": 87
        }
      ]
    },
    {
      "cell_type": "markdown",
      "metadata": {
        "id": "hLBLZpX60Hy8"
      },
      "source": [
        "AUC score of Model"
      ]
    },
    {
      "cell_type": "code",
      "metadata": {
        "colab": {
          "base_uri": "https://localhost:8080/",
          "height": 178
        },
        "id": "kGkoYUBGz-lD",
        "outputId": "1daed612-0af1-44e2-8cf6-a7131bbc3798"
      },
      "source": [
        "auc_score = roc_auc_score(y_test, predict[:,1])\r\n",
        "auc_score"
      ],
      "execution_count": null,
      "outputs": [
        {
          "output_type": "error",
          "ename": "NameError",
          "evalue": "ignored",
          "traceback": [
            "\u001b[0;31m---------------------------------------------------------------------------\u001b[0m",
            "\u001b[0;31mNameError\u001b[0m                                 Traceback (most recent call last)",
            "\u001b[0;32m<ipython-input-3-d7c3e0623496>\u001b[0m in \u001b[0;36m<module>\u001b[0;34m()\u001b[0m\n\u001b[0;32m----> 1\u001b[0;31m \u001b[0mauc_score\u001b[0m \u001b[0;34m=\u001b[0m \u001b[0mroc_auc_score\u001b[0m\u001b[0;34m(\u001b[0m\u001b[0my_test\u001b[0m\u001b[0;34m,\u001b[0m \u001b[0mpredict\u001b[0m\u001b[0;34m[\u001b[0m\u001b[0;34m:\u001b[0m\u001b[0;34m,\u001b[0m\u001b[0;36m1\u001b[0m\u001b[0;34m]\u001b[0m\u001b[0;34m)\u001b[0m\u001b[0;34m\u001b[0m\u001b[0;34m\u001b[0m\u001b[0m\n\u001b[0m\u001b[1;32m      2\u001b[0m \u001b[0mauc_score\u001b[0m\u001b[0;34m\u001b[0m\u001b[0;34m\u001b[0m\u001b[0m\n",
            "\u001b[0;31mNameError\u001b[0m: name 'roc_auc_score' is not defined"
          ]
        }
      ]
    },
    {
      "cell_type": "code",
      "metadata": {
        "colab": {
          "base_uri": "https://localhost:8080/"
        },
        "id": "GPGY_2nM08Bj",
        "outputId": "f49b3ef1-3e3b-4e76-9ee0-29631fc43513"
      },
      "source": [
        "print('AUC Score of Model is: {} %'.format(round(auc_score*100,2)))"
      ],
      "execution_count": null,
      "outputs": [
        {
          "output_type": "stream",
          "text": [
            "AUC Score of Model is: 99.8 %\n"
          ],
          "name": "stdout"
        }
      ]
    },
    {
      "cell_type": "markdown",
      "metadata": {
        "id": "Haiu56G31Erv"
      },
      "source": [
        "#### Confusion Matrix and Classification Report"
      ]
    },
    {
      "cell_type": "code",
      "metadata": {
        "colab": {
          "base_uri": "https://localhost:8080/",
          "height": 229
        },
        "id": "BWowCT8E1Cgq",
        "outputId": "61d00175-70c0-4ef6-c54d-5eeb79b40b6e"
      },
      "source": [
        "from sklearn.metrics import classification_report, confusion_matrix, accuracy_score\r\n",
        "result1 = confusion_matrix(y_test, predict[:,1])\r\n",
        "print(\"Confusion Matrix:\")\r\n",
        "print(result1)\r\n",
        "print('')\r\n",
        "result2 = classification_report(y_test, predict[:,1])\r\n",
        "print(\"Classification Report:\",)\r\n",
        "print (result2)\r\n",
        "result3 = accuracy_score(y_test,predict[:,1])\r\n",
        "print(\"Accuracy:\",result3)"
      ],
      "execution_count": null,
      "outputs": [
        {
          "output_type": "error",
          "ename": "NameError",
          "evalue": "ignored",
          "traceback": [
            "\u001b[0;31m---------------------------------------------------------------------------\u001b[0m",
            "\u001b[0;31mNameError\u001b[0m                                 Traceback (most recent call last)",
            "\u001b[0;32m<ipython-input-1-7ddb76d5cef2>\u001b[0m in \u001b[0;36m<module>\u001b[0;34m()\u001b[0m\n\u001b[1;32m      1\u001b[0m \u001b[0;32mfrom\u001b[0m \u001b[0msklearn\u001b[0m\u001b[0;34m.\u001b[0m\u001b[0mmetrics\u001b[0m \u001b[0;32mimport\u001b[0m \u001b[0mclassification_report\u001b[0m\u001b[0;34m,\u001b[0m \u001b[0mconfusion_matrix\u001b[0m\u001b[0;34m,\u001b[0m \u001b[0maccuracy_score\u001b[0m\u001b[0;34m\u001b[0m\u001b[0;34m\u001b[0m\u001b[0m\n\u001b[0;32m----> 2\u001b[0;31m \u001b[0mresult1\u001b[0m \u001b[0;34m=\u001b[0m \u001b[0mconfusion_matrix\u001b[0m\u001b[0;34m(\u001b[0m\u001b[0my_test\u001b[0m\u001b[0;34m,\u001b[0m \u001b[0mpredict\u001b[0m\u001b[0;34m[\u001b[0m\u001b[0;34m:\u001b[0m\u001b[0;34m,\u001b[0m\u001b[0;36m1\u001b[0m\u001b[0;34m]\u001b[0m\u001b[0;34m)\u001b[0m\u001b[0;34m\u001b[0m\u001b[0;34m\u001b[0m\u001b[0m\n\u001b[0m\u001b[1;32m      3\u001b[0m \u001b[0mprint\u001b[0m\u001b[0;34m(\u001b[0m\u001b[0;34m\"Confusion Matrix:\"\u001b[0m\u001b[0;34m)\u001b[0m\u001b[0;34m\u001b[0m\u001b[0;34m\u001b[0m\u001b[0m\n\u001b[1;32m      4\u001b[0m \u001b[0mprint\u001b[0m\u001b[0;34m(\u001b[0m\u001b[0mresult1\u001b[0m\u001b[0;34m)\u001b[0m\u001b[0;34m\u001b[0m\u001b[0;34m\u001b[0m\u001b[0m\n\u001b[1;32m      5\u001b[0m \u001b[0mprint\u001b[0m\u001b[0;34m(\u001b[0m\u001b[0;34m''\u001b[0m\u001b[0;34m)\u001b[0m\u001b[0;34m\u001b[0m\u001b[0;34m\u001b[0m\u001b[0m\n",
            "\u001b[0;31mNameError\u001b[0m: name 'y_test' is not defined"
          ]
        }
      ]
    },
    {
      "cell_type": "code",
      "metadata": {
        "colab": {
          "base_uri": "https://localhost:8080/",
          "height": 229
        },
        "id": "2w2WmCCy1LZ9",
        "outputId": "65feea1d-a37e-42e1-b582-a5cc712a68c4"
      },
      "source": [
        "class_names=[0,1]\r\n",
        "fig,ax=plt.subplots()\r\n",
        "tick_marks = np.arange(len(class_names))\r\n",
        "plt.xticks(tick_marks, class_names)\r\n",
        "plt.yticks(tick_marks, class_names)\r\n",
        "sns.heatmap(pd.DataFrame(result1), annot=True, cmap=\"PuBuGn\" ,fmt='g')## visualized confusion matrix using heatmap\r\n",
        "ax.xaxis.set_label_position(\"top\")\r\n",
        "plt.tight_layout()\r\n",
        "plt.title('Confusion matrix', y=1.1)\r\n",
        "plt.ylabel('Actual label')\r\n",
        "plt.xlabel('Predicted label')"
      ],
      "execution_count": null,
      "outputs": [
        {
          "output_type": "error",
          "ename": "NameError",
          "evalue": "ignored",
          "traceback": [
            "\u001b[0;31m---------------------------------------------------------------------------\u001b[0m",
            "\u001b[0;31mNameError\u001b[0m                                 Traceback (most recent call last)",
            "\u001b[0;32m<ipython-input-2-2b23cdb29910>\u001b[0m in \u001b[0;36m<module>\u001b[0;34m()\u001b[0m\n\u001b[1;32m      1\u001b[0m \u001b[0mclass_names\u001b[0m\u001b[0;34m=\u001b[0m\u001b[0;34m[\u001b[0m\u001b[0;36m0\u001b[0m\u001b[0;34m,\u001b[0m\u001b[0;36m1\u001b[0m\u001b[0;34m]\u001b[0m\u001b[0;34m\u001b[0m\u001b[0;34m\u001b[0m\u001b[0m\n\u001b[0;32m----> 2\u001b[0;31m \u001b[0mfig\u001b[0m\u001b[0;34m,\u001b[0m\u001b[0max\u001b[0m\u001b[0;34m=\u001b[0m\u001b[0mplt\u001b[0m\u001b[0;34m.\u001b[0m\u001b[0msubplots\u001b[0m\u001b[0;34m(\u001b[0m\u001b[0;34m)\u001b[0m\u001b[0;34m\u001b[0m\u001b[0;34m\u001b[0m\u001b[0m\n\u001b[0m\u001b[1;32m      3\u001b[0m \u001b[0mtick_marks\u001b[0m \u001b[0;34m=\u001b[0m \u001b[0mnp\u001b[0m\u001b[0;34m.\u001b[0m\u001b[0marange\u001b[0m\u001b[0;34m(\u001b[0m\u001b[0mlen\u001b[0m\u001b[0;34m(\u001b[0m\u001b[0mclass_names\u001b[0m\u001b[0;34m)\u001b[0m\u001b[0;34m)\u001b[0m\u001b[0;34m\u001b[0m\u001b[0;34m\u001b[0m\u001b[0m\n\u001b[1;32m      4\u001b[0m \u001b[0mplt\u001b[0m\u001b[0;34m.\u001b[0m\u001b[0mxticks\u001b[0m\u001b[0;34m(\u001b[0m\u001b[0mtick_marks\u001b[0m\u001b[0;34m,\u001b[0m \u001b[0mclass_names\u001b[0m\u001b[0;34m)\u001b[0m\u001b[0;34m\u001b[0m\u001b[0;34m\u001b[0m\u001b[0m\n\u001b[1;32m      5\u001b[0m \u001b[0mplt\u001b[0m\u001b[0;34m.\u001b[0m\u001b[0myticks\u001b[0m\u001b[0;34m(\u001b[0m\u001b[0mtick_marks\u001b[0m\u001b[0;34m,\u001b[0m \u001b[0mclass_names\u001b[0m\u001b[0;34m)\u001b[0m\u001b[0;34m\u001b[0m\u001b[0;34m\u001b[0m\u001b[0m\n",
            "\u001b[0;31mNameError\u001b[0m: name 'plt' is not defined"
          ]
        }
      ]
    },
    {
      "cell_type": "markdown",
      "metadata": {
        "id": "MJ5SkWb31ZM1"
      },
      "source": [
        "#### Accuracy, Precision, and Recall achived by model."
      ]
    },
    {
      "cell_type": "code",
      "metadata": {
        "colab": {
          "base_uri": "https://localhost:8080/"
        },
        "id": "ouZUSJ811Z30",
        "outputId": "816562f6-86d7-4f0a-ccd5-12c908a9bd0a"
      },
      "source": [
        "print(\"Accuracy Achieved:\",round(metrics.accuracy_score(y_test, predict[:,1])*100,2),'%')\r\n",
        "print(' ')\r\n",
        "print(\"Precision Achieved:\",round(metrics.precision_score(y_test, predict[:,1])*100,2),'%')\r\n",
        "print(' ')\r\n",
        "print(\"Recall Achieved:\",round(metrics.recall_score(y_test, predict[:,1])*100,2),'%')"
      ],
      "execution_count": null,
      "outputs": [
        {
          "output_type": "stream",
          "text": [
            "Accuracy Achieved: 99.82 %\n",
            " \n",
            "Precision Achieved: 99.82 %\n",
            " \n",
            "Recall Achieved: 99.7 %\n"
          ],
          "name": "stdout"
        }
      ]
    }
  ]
}